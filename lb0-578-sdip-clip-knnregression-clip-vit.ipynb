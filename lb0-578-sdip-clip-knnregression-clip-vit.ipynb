{
 "cells": [
  {
   "cell_type": "markdown",
   "id": "a27e96dd",
   "metadata": {
    "papermill": {
     "duration": 0.018108,
     "end_time": "2023-05-13T12:19:51.580944",
     "exception": false,
     "start_time": "2023-05-13T12:19:51.562836",
     "status": "completed"
    },
    "tags": []
   },
   "source": [
    "# Overview"
   ]
  },
  {
   "cell_type": "markdown",
   "id": "646f2008",
   "metadata": {
    "papermill": {
     "duration": 0.016271,
     "end_time": "2023-05-13T12:19:51.613990",
     "exception": false,
     "start_time": "2023-05-13T12:19:51.597719",
     "status": "completed"
    },
    "tags": []
   },
   "source": [
    "This method uses k-NN regression with distances of CLIP embeddings.  \n",
    "***Note: This method does not use generated images, only prompts.***\n",
    "![](https://www.googleapis.com/download/storage/v1/b/kaggle-forum-message-attachments/o/inbox%2F8163878%2Fbf35d4beb7867bc163f28abb647128ae%2FSDIP_method.PNG?generation=1682513923845611&alt=media)"
   ]
  },
  {
   "cell_type": "markdown",
   "id": "8329b3b1",
   "metadata": {
    "papermill": {
     "duration": 0.016213,
     "end_time": "2023-05-13T12:19:51.646663",
     "exception": false,
     "start_time": "2023-05-13T12:19:51.630450",
     "status": "completed"
    },
    "tags": []
   },
   "source": [
    "# Library"
   ]
  },
  {
   "cell_type": "code",
   "execution_count": 1,
   "id": "27fb065a",
   "metadata": {
    "execution": {
     "iopub.execute_input": "2023-05-13T12:19:51.683330Z",
     "iopub.status.busy": "2023-05-13T12:19:51.682447Z",
     "iopub.status.idle": "2023-05-13T12:20:14.124922Z",
     "shell.execute_reply": "2023-05-13T12:20:14.123687Z"
    },
    "papermill": {
     "duration": 22.463441,
     "end_time": "2023-05-13T12:20:14.127697",
     "exception": false,
     "start_time": "2023-05-13T12:19:51.664256",
     "status": "completed"
    },
    "tags": []
   },
   "outputs": [
    {
     "name": "stdout",
     "output_type": "stream",
     "text": [
      "\u001b[33mWARNING: Running pip as the 'root' user can result in broken permissions and conflicting behaviour with the system package manager. It is recommended to use a virtual environment instead: https://pip.pypa.io/warnings/venv\u001b[0m\u001b[33m\r\n",
      "\u001b[0m"
     ]
    }
   ],
   "source": [
    "wheels_path = \"/kaggle/input/clip-interrogator-wheels-x\"\n",
    "clip_interrogator_whl_path = f\"{wheels_path}/clip_interrogator-0.4.3-py3-none-any.whl\"\n",
    "!pip install --no-index --find-links $wheels_path $clip_interrogator_whl_path -q"
   ]
  },
  {
   "cell_type": "code",
   "execution_count": 2,
   "id": "7406d2b1",
   "metadata": {
    "execution": {
     "iopub.execute_input": "2023-05-13T12:20:14.163898Z",
     "iopub.status.busy": "2023-05-13T12:20:14.162902Z",
     "iopub.status.idle": "2023-05-13T12:20:18.881438Z",
     "shell.execute_reply": "2023-05-13T12:20:18.880070Z"
    },
    "papermill": {
     "duration": 4.740059,
     "end_time": "2023-05-13T12:20:18.884681",
     "exception": false,
     "start_time": "2023-05-13T12:20:14.144622",
     "status": "completed"
    },
    "tags": []
   },
   "outputs": [],
   "source": [
    "import os, glob, gc\n",
    "import random\n",
    "import numpy as np\n",
    "import pandas as pd\n",
    "import pickle\n",
    "from pathlib import Path\n",
    "from PIL import Image\n",
    "from tqdm.notebook import tqdm\n",
    "from sklearn.preprocessing import normalize\n",
    "import torch\n",
    "from torch import nn\n",
    "from torchvision import transforms\n",
    "import open_clip\n",
    "import warnings\n",
    "warnings.filterwarnings('ignore')\n",
    "from matplotlib import pyplot as plt"
   ]
  },
  {
   "cell_type": "markdown",
   "id": "26f448c4",
   "metadata": {
    "papermill": {
     "duration": 0.024411,
     "end_time": "2023-05-13T12:20:18.937179",
     "exception": false,
     "start_time": "2023-05-13T12:20:18.912768",
     "status": "completed"
    },
    "tags": []
   },
   "source": [
    "# Config"
   ]
  },
  {
   "cell_type": "code",
   "execution_count": 3,
   "id": "13876093",
   "metadata": {
    "execution": {
     "iopub.execute_input": "2023-05-13T12:20:18.985207Z",
     "iopub.status.busy": "2023-05-13T12:20:18.984609Z",
     "iopub.status.idle": "2023-05-13T12:20:18.996011Z",
     "shell.execute_reply": "2023-05-13T12:20:18.994996Z"
    },
    "papermill": {
     "duration": 0.038891,
     "end_time": "2023-05-13T12:20:18.999083",
     "exception": false,
     "start_time": "2023-05-13T12:20:18.960192",
     "status": "completed"
    },
    "tags": []
   },
   "outputs": [],
   "source": [
    "class CFG:\n",
    "    clip_model_path = \"/kaggle/input/laion-vit-h-14-model/ViT-H-14_laion2b_s32b_b79k.pt\"\n",
    "    clip_preproc_pkl = \"/kaggle/input/laion-vit-h-14-model/preprocess.pkl\"\n",
    "    input_size = 224\n",
    "    batch_size = 64\n",
    "    seed = 42\n",
    "    knn_topk = 100\n",
    "    knn_interval = 1000\n",
    "    knn_dim = 6"
   ]
  },
  {
   "cell_type": "code",
   "execution_count": 4,
   "id": "9b1ec835",
   "metadata": {
    "execution": {
     "iopub.execute_input": "2023-05-13T12:20:19.046754Z",
     "iopub.status.busy": "2023-05-13T12:20:19.046339Z",
     "iopub.status.idle": "2023-05-13T12:20:19.129499Z",
     "shell.execute_reply": "2023-05-13T12:20:19.128357Z"
    },
    "papermill": {
     "duration": 0.109789,
     "end_time": "2023-05-13T12:20:19.132181",
     "exception": false,
     "start_time": "2023-05-13T12:20:19.022392",
     "status": "completed"
    },
    "tags": []
   },
   "outputs": [],
   "source": [
    "def seed_everything(seed):\n",
    "    os.environ['PYTHONHASHSEED'] = str(seed)\n",
    "    random.seed(seed)\n",
    "    np.random.seed(seed)\n",
    "    torch.manual_seed(seed)\n",
    "    \n",
    "    if torch.cuda.is_available(): \n",
    "        torch.cuda.manual_seed(seed)\n",
    "        torch.backends.cudnn.deterministic = True\n",
    "\n",
    "seed_everything(CFG.seed)"
   ]
  },
  {
   "cell_type": "code",
   "execution_count": 5,
   "id": "711ad1b6",
   "metadata": {
    "execution": {
     "iopub.execute_input": "2023-05-13T12:20:19.186828Z",
     "iopub.status.busy": "2023-05-13T12:20:19.186378Z",
     "iopub.status.idle": "2023-05-13T12:20:19.191786Z",
     "shell.execute_reply": "2023-05-13T12:20:19.190852Z"
    },
    "papermill": {
     "duration": 0.037313,
     "end_time": "2023-05-13T12:20:19.196334",
     "exception": false,
     "start_time": "2023-05-13T12:20:19.159021",
     "status": "completed"
    },
    "tags": []
   },
   "outputs": [],
   "source": [
    "device = torch.device('cuda' if torch.cuda.is_available() else 'cpu')"
   ]
  },
  {
   "cell_type": "markdown",
   "id": "f7e371f9",
   "metadata": {
    "papermill": {
     "duration": 0.023026,
     "end_time": "2023-05-13T12:20:19.242580",
     "exception": false,
     "start_time": "2023-05-13T12:20:19.219554",
     "status": "completed"
    },
    "tags": []
   },
   "source": [
    "#### <a id=\"top\"></a>\n",
    "# <div style=\"box-shadow: rgb(60, 121, 245) 0px 0px 0px 3px inset, rgb(255, 255, 255) 10px -10px 0px -3px, rgb(31, 193, 27) 10px -10px, rgb(255, 255, 255) 20px -20px 0px -3px, rgb(255, 217, 19) 20px -20px, rgb(255, 255, 255) 30px -30px 0px -3px, rgb(255, 156, 85) 30px -30px, rgb(255, 255, 255) 40px -40px 0px -3px, rgb(255, 85, 85) 40px -40px; padding:20px; margin-right: 40px; font-size:30px; font-family: consolas; text-align:center; display:fill; border-radius:15px; color:rgb(60, 121, 245);\"><b> ref_embeddings </b></div>\n"
   ]
  },
  {
   "cell_type": "code",
   "execution_count": 6,
   "id": "124be7a6",
   "metadata": {
    "execution": {
     "iopub.execute_input": "2023-05-13T12:20:19.291660Z",
     "iopub.status.busy": "2023-05-13T12:20:19.291231Z",
     "iopub.status.idle": "2023-05-13T12:20:19.296126Z",
     "shell.execute_reply": "2023-05-13T12:20:19.295167Z"
    },
    "papermill": {
     "duration": 0.034849,
     "end_time": "2023-05-13T12:20:19.300881",
     "exception": false,
     "start_time": "2023-05-13T12:20:19.266032",
     "status": "completed"
    },
    "tags": []
   },
   "outputs": [],
   "source": [
    "FILES_OBJECTIVE_EMB = []\n",
    "FILES_CLIP_EMB = []"
   ]
  },
  {
   "cell_type": "code",
   "execution_count": 7,
   "id": "21dd3285",
   "metadata": {
    "execution": {
     "iopub.execute_input": "2023-05-13T12:20:19.349202Z",
     "iopub.status.busy": "2023-05-13T12:20:19.348693Z",
     "iopub.status.idle": "2023-05-13T12:20:19.394883Z",
     "shell.execute_reply": "2023-05-13T12:20:19.393902Z"
    },
    "papermill": {
     "duration": 0.073667,
     "end_time": "2023-05-13T12:20:19.398095",
     "exception": false,
     "start_time": "2023-05-13T12:20:19.324428",
     "status": "completed"
    },
    "tags": []
   },
   "outputs": [
    {
     "name": "stdout",
     "output_type": "stream",
     "text": [
      "140 140\n"
     ]
    }
   ],
   "source": [
    "### DiffusionDB-14M (https://huggingface.co/datasets/poloclub/diffusiondb)\n",
    "# Objective embeddings\n",
    "FILES_OBJECTIVE_EMB += sorted(glob.glob(\"/kaggle/input/pub-embeddings-diffusiondb-14m-part1/all_minilm_l6_v2/*.npy\"))\n",
    "FILES_OBJECTIVE_EMB += sorted(glob.glob(\"/kaggle/input/pub-embeddings-diffusiondb-14m-part2/all_minilm_l6_v2/*.npy\"))\n",
    "FILES_OBJECTIVE_EMB += sorted(glob.glob(\"/kaggle/input/pub-embeddings-diffusiondb-14m-part3/all_minilm_l6_v2/*.npy\"))\n",
    "\n",
    "# CLIP text tembeddings\n",
    "FILES_CLIP_EMB += sorted(glob.glob(\"/kaggle/input/pub-embeddings-diffusiondb-14m-part1/vith14/*.npy\"))\n",
    "FILES_CLIP_EMB += sorted(glob.glob(\"/kaggle/input/pub-embeddings-diffusiondb-14m-part2/vith14/*.npy\"))\n",
    "FILES_CLIP_EMB += sorted(glob.glob(\"/kaggle/input/pub-embeddings-diffusiondb-14m-part3/vith14/*.npy\"))\n",
    "print(len(FILES_OBJECTIVE_EMB), len(FILES_CLIP_EMB))"
   ]
  },
  {
   "cell_type": "code",
   "execution_count": 8,
   "id": "089bff71",
   "metadata": {
    "execution": {
     "iopub.execute_input": "2023-05-13T12:20:19.446623Z",
     "iopub.status.busy": "2023-05-13T12:20:19.446252Z",
     "iopub.status.idle": "2023-05-13T12:20:19.458093Z",
     "shell.execute_reply": "2023-05-13T12:20:19.457134Z"
    },
    "papermill": {
     "duration": 0.040547,
     "end_time": "2023-05-13T12:20:19.462284",
     "exception": false,
     "start_time": "2023-05-13T12:20:19.421737",
     "status": "completed"
    },
    "tags": []
   },
   "outputs": [
    {
     "name": "stdout",
     "output_type": "stream",
     "text": [
      "146 146\n"
     ]
    }
   ],
   "source": [
    "# MSCOCO 2017(train data) (https://cocodataset.org/#download)\n",
    "# Objective embeddings\n",
    "FILES_OBJECTIVE_EMB += sorted(glob.glob(\"/kaggle/input/pub-embeddings-mscoco/all_minilm_l6_v2/*.npy\"))\n",
    "\n",
    "# CLIP text tembeddings\n",
    "FILES_CLIP_EMB += sorted(glob.glob(\"/kaggle/input/pub-embeddings-mscoco/vith14/*.npy\"))\n",
    "print(len(FILES_OBJECTIVE_EMB), len(FILES_CLIP_EMB))"
   ]
  },
  {
   "cell_type": "code",
   "execution_count": 9,
   "id": "3ea74997",
   "metadata": {
    "execution": {
     "iopub.execute_input": "2023-05-13T12:20:19.510105Z",
     "iopub.status.busy": "2023-05-13T12:20:19.509674Z",
     "iopub.status.idle": "2023-05-13T12:20:19.516481Z",
     "shell.execute_reply": "2023-05-13T12:20:19.515503Z"
    },
    "papermill": {
     "duration": 0.037718,
     "end_time": "2023-05-13T12:20:19.523120",
     "exception": false,
     "start_time": "2023-05-13T12:20:19.485402",
     "status": "completed"
    },
    "tags": []
   },
   "outputs": [
    {
     "name": "stdout",
     "output_type": "stream",
     "text": [
      "147 147\n"
     ]
    }
   ],
   "source": [
    "# dataset80k (https://www.kaggle.com/competitions/stable-diffusion-image-to-prompts/discussion/390674)\n",
    "# Objective embeddings\n",
    "FILES_OBJECTIVE_EMB.append(\"/kaggle/input/pub-embeddings-dataset80k/all_minilm_l6_v2/prompt_embeddings_allminilm_001.npy\")\n",
    "\n",
    "# CLIP text tembeddings\n",
    "FILES_CLIP_EMB.append(\"/kaggle/input/pub-embeddings-dataset80k/vith14/prompt_embedding_vith14_001.npy\")\n",
    "print(len(FILES_OBJECTIVE_EMB), len(FILES_CLIP_EMB))"
   ]
  },
  {
   "cell_type": "code",
   "execution_count": 10,
   "id": "9bbafa16",
   "metadata": {
    "execution": {
     "iopub.execute_input": "2023-05-13T12:20:19.571470Z",
     "iopub.status.busy": "2023-05-13T12:20:19.571068Z",
     "iopub.status.idle": "2023-05-13T12:20:19.577564Z",
     "shell.execute_reply": "2023-05-13T12:20:19.576548Z"
    },
    "papermill": {
     "duration": 0.037569,
     "end_time": "2023-05-13T12:20:19.584141",
     "exception": false,
     "start_time": "2023-05-13T12:20:19.546572",
     "status": "completed"
    },
    "tags": []
   },
   "outputs": [
    {
     "name": "stdout",
     "output_type": "stream",
     "text": [
      "148 148\n"
     ]
    }
   ],
   "source": [
    "# Dataset30k (https://www.kaggle.com/competitions/stable-diffusion-image-to-prompts/discussion/391500)\n",
    "# Objective embeddings\n",
    "FILES_OBJECTIVE_EMB.append(\"/kaggle/input/pub-embeddings-dataset30k/all_minilm_l6_v2/prompt_embeddings_allminilm_001.npy\")\n",
    "\n",
    "# CLIP text tembeddings\n",
    "FILES_CLIP_EMB.append(\"/kaggle/input/pub-embeddings-dataset30k/vith14/prompt_embedding_vith14_001.npy\")\n",
    "print(len(FILES_OBJECTIVE_EMB), len(FILES_CLIP_EMB))"
   ]
  },
  {
   "cell_type": "code",
   "execution_count": 11,
   "id": "4f0af8e6",
   "metadata": {
    "execution": {
     "iopub.execute_input": "2023-05-13T12:20:19.634494Z",
     "iopub.status.busy": "2023-05-13T12:20:19.634091Z",
     "iopub.status.idle": "2023-05-13T12:20:19.652677Z",
     "shell.execute_reply": "2023-05-13T12:20:19.651723Z"
    },
    "papermill": {
     "duration": 0.048595,
     "end_time": "2023-05-13T12:20:19.657052",
     "exception": false,
     "start_time": "2023-05-13T12:20:19.608457",
     "status": "completed"
    },
    "tags": []
   },
   "outputs": [
    {
     "name": "stdout",
     "output_type": "stream",
     "text": [
      "158 158\n"
     ]
    }
   ],
   "source": [
    "# Dataset900k (https://www.kaggle.com/competitions/stable-diffusion-image-to-prompts/discussion/399699)\n",
    "# Objective embeddings\n",
    "FILES_OBJECTIVE_EMB += sorted(glob.glob(\"/kaggle/input/pub-embeddings-dataset900k/all_minilm_l6_v2/*.npy\"))\n",
    "\n",
    "# CLIP text tembeddings\n",
    "FILES_CLIP_EMB += sorted(glob.glob(\"/kaggle/input/pub-embeddings-dataset900k/vith14/*.npy\"))\n",
    "print(len(FILES_OBJECTIVE_EMB), len(FILES_CLIP_EMB))"
   ]
  },
  {
   "cell_type": "code",
   "execution_count": 12,
   "id": "2de1ebc8",
   "metadata": {
    "execution": {
     "iopub.execute_input": "2023-05-13T12:20:19.706558Z",
     "iopub.status.busy": "2023-05-13T12:20:19.706088Z",
     "iopub.status.idle": "2023-05-13T12:20:19.721564Z",
     "shell.execute_reply": "2023-05-13T12:20:19.720542Z"
    },
    "papermill": {
     "duration": 0.04513,
     "end_time": "2023-05-13T12:20:19.725761",
     "exception": false,
     "start_time": "2023-05-13T12:20:19.680631",
     "status": "completed"
    },
    "tags": []
   },
   "outputs": [
    {
     "name": "stdout",
     "output_type": "stream",
     "text": [
      "192 192\n"
     ]
    }
   ],
   "source": [
    "# Conceptual Captions\n",
    "# Objective embeddings\n",
    "FILES_OBJECTIVE_EMB += sorted(glob.glob(\"/kaggle/input/pub-embeddings-conceptual-captions/all_minilm_l6_v2/*.npy\"))\n",
    "\n",
    "# CLIP text tembeddings\n",
    "FILES_CLIP_EMB += sorted(glob.glob(\"/kaggle/input/pub-embeddings-conceptual-captions/vith14/*.npy\"))\n",
    "print(len(FILES_OBJECTIVE_EMB), len(FILES_CLIP_EMB))"
   ]
  },
  {
   "cell_type": "code",
   "execution_count": 13,
   "id": "3480fe7a",
   "metadata": {
    "execution": {
     "iopub.execute_input": "2023-05-13T12:20:19.775822Z",
     "iopub.status.busy": "2023-05-13T12:20:19.775418Z",
     "iopub.status.idle": "2023-05-13T12:20:19.789094Z",
     "shell.execute_reply": "2023-05-13T12:20:19.788134Z"
    },
    "papermill": {
     "duration": 0.042682,
     "end_time": "2023-05-13T12:20:19.793155",
     "exception": false,
     "start_time": "2023-05-13T12:20:19.750473",
     "status": "completed"
    },
    "tags": []
   },
   "outputs": [
    {
     "name": "stdout",
     "output_type": "stream",
     "text": [
      "193 193\n"
     ]
    }
   ],
   "source": [
    "# SD2GPT2 (https://www.kaggle.com/datasets/xiaozhouwang/sd2gpt2)\n",
    "# Objective embeddings\n",
    "FILES_OBJECTIVE_EMB += sorted(glob.glob(\"/kaggle/input/pub-embeddings-sd2gpt2/all_minilm_l6_v2/*.npy\"))\n",
    "\n",
    "# CLIP text tembeddings\n",
    "FILES_CLIP_EMB += sorted(glob.glob(\"/kaggle/input/pub-embeddings-sd2gpt2/vith14/*.npy\"))\n",
    "print(len(FILES_OBJECTIVE_EMB), len(FILES_CLIP_EMB))"
   ]
  },
  {
   "cell_type": "code",
   "execution_count": 14,
   "id": "34cb3d4d",
   "metadata": {
    "execution": {
     "iopub.execute_input": "2023-05-13T12:20:19.842291Z",
     "iopub.status.busy": "2023-05-13T12:20:19.841880Z",
     "iopub.status.idle": "2023-05-13T12:20:19.857183Z",
     "shell.execute_reply": "2023-05-13T12:20:19.856226Z"
    },
    "papermill": {
     "duration": 0.044229,
     "end_time": "2023-05-13T12:20:19.861261",
     "exception": false,
     "start_time": "2023-05-13T12:20:19.817032",
     "status": "completed"
    },
    "tags": []
   },
   "outputs": [
    {
     "name": "stdout",
     "output_type": "stream",
     "text": [
      "194 194\n"
     ]
    }
   ],
   "source": [
    "# SD2Hardcode (https://www.kaggle.com/datasets/xiaozhouwang/sd2hardcode)\n",
    "# Objective embeddings\n",
    "FILES_OBJECTIVE_EMB += sorted(glob.glob(\"/kaggle/input/pub-embeddings-sd2hardcode/all_minilm_l6_v2/*.npy\"))\n",
    "\n",
    "# CLIP text tembeddings\n",
    "FILES_CLIP_EMB += sorted(glob.glob(\"/kaggle/input/pub-embeddings-sd2hardcode/vith14/*.npy\"))\n",
    "print(len(FILES_OBJECTIVE_EMB), len(FILES_CLIP_EMB))"
   ]
  },
  {
   "cell_type": "code",
   "execution_count": 15,
   "id": "eb62f132",
   "metadata": {
    "execution": {
     "iopub.execute_input": "2023-05-13T12:20:19.908499Z",
     "iopub.status.busy": "2023-05-13T12:20:19.908168Z",
     "iopub.status.idle": "2023-05-13T12:20:19.919315Z",
     "shell.execute_reply": "2023-05-13T12:20:19.918024Z"
    },
    "papermill": {
     "duration": 0.034968,
     "end_time": "2023-05-13T12:20:19.921713",
     "exception": false,
     "start_time": "2023-05-13T12:20:19.886745",
     "status": "completed"
    },
    "tags": []
   },
   "outputs": [
    {
     "name": "stdout",
     "output_type": "stream",
     "text": [
      "195 195\n"
     ]
    }
   ],
   "source": [
    "# ChatGPT (https://www.kaggle.com/competitions/stable-diffusion-image-to-prompts/discussion/402146)\n",
    "# Objective embeddings\n",
    "FILES_OBJECTIVE_EMB += sorted(glob.glob(\"/kaggle/input/pub-embeddings-chatgpt/all_minilm_l6_v2/*.npy\"))\n",
    "\n",
    "# CLIP text tembeddings\n",
    "FILES_CLIP_EMB += sorted(glob.glob(\"/kaggle/input/pub-embeddings-chatgpt/vith14/*.npy\"))\n",
    "print(len(FILES_OBJECTIVE_EMB), len(FILES_CLIP_EMB))\n"
   ]
  },
  {
   "cell_type": "code",
   "execution_count": 16,
   "id": "dd2db9eb",
   "metadata": {
    "execution": {
     "iopub.execute_input": "2023-05-13T12:20:19.957693Z",
     "iopub.status.busy": "2023-05-13T12:20:19.957390Z",
     "iopub.status.idle": "2023-05-13T12:20:20.087293Z",
     "shell.execute_reply": "2023-05-13T12:20:20.085918Z"
    },
    "papermill": {
     "duration": 0.1508,
     "end_time": "2023-05-13T12:20:20.089658",
     "exception": false,
     "start_time": "2023-05-13T12:20:19.938858",
     "status": "completed"
    },
    "tags": []
   },
   "outputs": [
    {
     "name": "stdout",
     "output_type": "stream",
     "text": [
      "665 665\n"
     ]
    }
   ],
   "source": [
    "# Laion2B-en (https://huggingface.co/datasets/laion/laion2B-en)\n",
    "# (part0000-part0050 of 2000)\n",
    "\n",
    "# Objective embeddings\n",
    "FILES_OBJECTIVE_EMB += sorted(glob.glob(f\"/kaggle/input/pub-embeddings-laion2b-part0000-0004/all_minilm_l6_v2/*.npy\"))\n",
    "FILES_OBJECTIVE_EMB += sorted(glob.glob(f\"/kaggle/input/pub-embeddings-laion2b-part0005-0009/all_minilm_l6_v2/*.npy\"))\n",
    "FILES_OBJECTIVE_EMB += sorted(glob.glob(f\"/kaggle/input/pub-embeddings-laion2b-part0010-0014/all_minilm_l6_v2/*.npy\"))\n",
    "FILES_OBJECTIVE_EMB += sorted(glob.glob(f\"/kaggle/input/pub-embeddings-laion2b-part0015-0019/all_minilm_l6_v2/*.npy\"))\n",
    "FILES_OBJECTIVE_EMB += sorted(glob.glob(f\"/kaggle/input/pub-embeddings-laion2b-part0020-0024/all_minilm_l6_v2/*.npy\"))\n",
    "FILES_OBJECTIVE_EMB += sorted(glob.glob(f\"/kaggle/input/pub-embeddings-laion2b-part0025-0029/all_minilm_l6_v2/*.npy\"))\n",
    "FILES_OBJECTIVE_EMB += sorted(glob.glob(f\"/kaggle/input/pub-embeddings-laion2b-part0030-0034/all_minilm_l6_v2/*.npy\"))\n",
    "FILES_OBJECTIVE_EMB += sorted(glob.glob(f\"/kaggle/input/pub-embeddings-laion2b-part0035-0039/all_minilm_l6_v2/*.npy\"))\n",
    "FILES_OBJECTIVE_EMB += sorted(glob.glob(f\"/kaggle/input/pub-embeddings-laion2b-part0040-0044/all_minilm_l6_v2/*.npy\"))\n",
    "FILES_OBJECTIVE_EMB += sorted(glob.glob(f\"/kaggle/input/pub-embeddings-laion2b-part0045-0049/all_minilm_l6_v2/*.npy\"))\n",
    "\n",
    "# CLIP text tembeddings\n",
    "FILES_CLIP_EMB += sorted(glob.glob(f\"/kaggle/input/pub-embeddings-laion2b-part0000-0004/vith14/*.npy\"))\n",
    "FILES_CLIP_EMB += sorted(glob.glob(f\"/kaggle/input/pub-embeddings-laion2b-part0005-0009/vith14/*.npy\"))\n",
    "FILES_CLIP_EMB += sorted(glob.glob(f\"/kaggle/input/pub-embeddings-laion2b-part0010-0014/vith14/*.npy\"))\n",
    "FILES_CLIP_EMB += sorted(glob.glob(f\"/kaggle/input/pub-embeddings-laion2b-part0015-0019/vith14/*.npy\"))\n",
    "FILES_CLIP_EMB += sorted(glob.glob(f\"/kaggle/input/pub-embeddings-laion2b-part0020-0024/vith14/*.npy\"))\n",
    "FILES_CLIP_EMB += sorted(glob.glob(f\"/kaggle/input/pub-embeddings-laion2b-part0025-0029/vith14/*.npy\"))\n",
    "FILES_CLIP_EMB += sorted(glob.glob(f\"/kaggle/input/pub-embeddings-laion2b-part0030-0034/vith14/*.npy\"))\n",
    "FILES_CLIP_EMB += sorted(glob.glob(f\"/kaggle/input/pub-embeddings-laion2b-part0035-0039/vith14/*.npy\"))\n",
    "FILES_CLIP_EMB += sorted(glob.glob(f\"/kaggle/input/pub-embeddings-laion2b-part0040-0044/vith14/*.npy\"))\n",
    "FILES_CLIP_EMB += sorted(glob.glob(f\"/kaggle/input/pub-embeddings-laion2b-part0045-0049/vith14/*.npy\"))\n",
    "print(len(FILES_OBJECTIVE_EMB), len(FILES_CLIP_EMB))"
   ]
  },
  {
   "cell_type": "markdown",
   "id": "d672fa7d",
   "metadata": {
    "papermill": {
     "duration": 0.017162,
     "end_time": "2023-05-13T12:20:20.124287",
     "exception": false,
     "start_time": "2023-05-13T12:20:20.107125",
     "status": "completed"
    },
    "tags": []
   },
   "source": [
    "#### <a id=\"top\"></a>\n",
    "# <div style=\"box-shadow: rgb(60, 121, 245) 0px 0px 0px 3px inset, rgb(255, 255, 255) 10px -10px 0px -3px, rgb(31, 193, 27) 10px -10px, rgb(255, 255, 255) 20px -20px 0px -3px, rgb(255, 217, 19) 20px -20px, rgb(255, 255, 255) 30px -30px 0px -3px, rgb(255, 156, 85) 30px -30px, rgb(255, 255, 255) 40px -40px 0px -3px, rgb(255, 85, 85) 40px -40px; padding:20px; margin-right: 40px; font-size:30px; font-family: consolas; text-align:center; display:fill; border-radius:15px; color:rgb(60, 121, 245);\"><b> Generate CLIP vision embeddings </b></div>"
   ]
  },
  {
   "cell_type": "code",
   "execution_count": 17,
   "id": "a489bdef",
   "metadata": {
    "execution": {
     "iopub.execute_input": "2023-05-13T12:20:20.161329Z",
     "iopub.status.busy": "2023-05-13T12:20:20.160380Z",
     "iopub.status.idle": "2023-05-13T12:20:20.169881Z",
     "shell.execute_reply": "2023-05-13T12:20:20.168879Z"
    },
    "papermill": {
     "duration": 0.030378,
     "end_time": "2023-05-13T12:20:20.172082",
     "exception": false,
     "start_time": "2023-05-13T12:20:20.141704",
     "status": "completed"
    },
    "tags": []
   },
   "outputs": [
    {
     "name": "stdout",
     "output_type": "stream",
     "text": [
      "7\n"
     ]
    }
   ],
   "source": [
    "test_images = list(Path('/kaggle/input/stable-diffusion-image-to-prompts/images').glob('*.png'))\n",
    "print(len(test_images))"
   ]
  },
  {
   "cell_type": "code",
   "execution_count": 18,
   "id": "7e576732",
   "metadata": {
    "execution": {
     "iopub.execute_input": "2023-05-13T12:20:20.208838Z",
     "iopub.status.busy": "2023-05-13T12:20:20.208468Z",
     "iopub.status.idle": "2023-05-13T12:20:45.088005Z",
     "shell.execute_reply": "2023-05-13T12:20:45.086917Z"
    },
    "papermill": {
     "duration": 24.901222,
     "end_time": "2023-05-13T12:20:45.090907",
     "exception": false,
     "start_time": "2023-05-13T12:20:20.189685",
     "status": "completed"
    },
    "tags": []
   },
   "outputs": [],
   "source": [
    "# load CLIP vision model (Laion/ViTH14)\n",
    "clip_model = torch.jit.load(CFG.clip_model_path).cuda()\n",
    "clip_model = clip_model.cuda().eval().half();"
   ]
  },
  {
   "cell_type": "code",
   "execution_count": 19,
   "id": "d382bf6b",
   "metadata": {
    "execution": {
     "iopub.execute_input": "2023-05-13T12:20:45.128971Z",
     "iopub.status.busy": "2023-05-13T12:20:45.127865Z",
     "iopub.status.idle": "2023-05-13T12:20:45.145747Z",
     "shell.execute_reply": "2023-05-13T12:20:45.144750Z"
    },
    "papermill": {
     "duration": 0.039362,
     "end_time": "2023-05-13T12:20:45.148144",
     "exception": false,
     "start_time": "2023-05-13T12:20:45.108782",
     "status": "completed"
    },
    "tags": []
   },
   "outputs": [
    {
     "data": {
      "text/plain": [
       "Compose(\n",
       "    Resize(size=224, interpolation=bicubic, max_size=None, antialias=None)\n",
       "    CenterCrop(size=(224, 224))\n",
       "    <function _convert_to_rgb at 0x7d161574a290>\n",
       "    ToTensor()\n",
       "    Normalize(mean=(0.48145466, 0.4578275, 0.40821073), std=(0.26862954, 0.26130258, 0.27577711))\n",
       ")"
      ]
     },
     "execution_count": 19,
     "metadata": {},
     "output_type": "execute_result"
    }
   ],
   "source": [
    "# load transforms from pickele\n",
    "with open(CFG.clip_preproc_pkl, \"rb\") as fp:\n",
    "    saved_preprocess = pickle.load(fp)\n",
    "saved_preprocess"
   ]
  },
  {
   "cell_type": "code",
   "execution_count": 20,
   "id": "dd40759c",
   "metadata": {
    "execution": {
     "iopub.execute_input": "2023-05-13T12:20:45.185736Z",
     "iopub.status.busy": "2023-05-13T12:20:45.185395Z",
     "iopub.status.idle": "2023-05-13T12:20:53.047243Z",
     "shell.execute_reply": "2023-05-13T12:20:53.046155Z"
    },
    "papermill": {
     "duration": 7.884139,
     "end_time": "2023-05-13T12:20:53.050549",
     "exception": false,
     "start_time": "2023-05-13T12:20:45.166410",
     "status": "completed"
    },
    "tags": []
   },
   "outputs": [
    {
     "data": {
      "application/vnd.jupyter.widget-view+json": {
       "model_id": "5468e0b1617c4464bdf653ff178ed8fc",
       "version_major": 2,
       "version_minor": 0
      },
      "text/plain": [
       "  0%|          | 0/7 [00:00<?, ?it/s]"
      ]
     },
     "metadata": {},
     "output_type": "display_data"
    },
    {
     "name": "stdout",
     "output_type": "stream",
     "text": [
      "(7, 1024)\n"
     ]
    }
   ],
   "source": [
    "# Inference with CLIP vision encoder\n",
    "test_vision_embeddings = []\n",
    "for test_image in tqdm(test_images):\n",
    "    image = Image.open( test_image )\n",
    "    prep = saved_preprocess(image).unsqueeze(0).to(device)\n",
    "    embedding = clip_model(prep.half())\n",
    "    test_vision_embeddings.append( embedding.detach().cpu().numpy() )\n",
    "test_vision_embeddings = np.concatenate(test_vision_embeddings).astype(np.float16)\n",
    "print(test_vision_embeddings.shape)"
   ]
  },
  {
   "cell_type": "code",
   "execution_count": 21,
   "id": "eb82f712",
   "metadata": {
    "execution": {
     "iopub.execute_input": "2023-05-13T12:20:53.089450Z",
     "iopub.status.busy": "2023-05-13T12:20:53.087554Z",
     "iopub.status.idle": "2023-05-13T12:20:53.521947Z",
     "shell.execute_reply": "2023-05-13T12:20:53.520890Z"
    },
    "papermill": {
     "duration": 0.455812,
     "end_time": "2023-05-13T12:20:53.524376",
     "exception": false,
     "start_time": "2023-05-13T12:20:53.068564",
     "status": "completed"
    },
    "tags": []
   },
   "outputs": [
    {
     "data": {
      "text/plain": [
       "5264"
      ]
     },
     "execution_count": 21,
     "metadata": {},
     "output_type": "execute_result"
    }
   ],
   "source": [
    "del clip_model, prep, image, embedding\n",
    "gc.collect()"
   ]
  },
  {
   "cell_type": "code",
   "execution_count": 22,
   "id": "2316d9ec",
   "metadata": {
    "execution": {
     "iopub.execute_input": "2023-05-13T12:20:53.563042Z",
     "iopub.status.busy": "2023-05-13T12:20:53.561410Z",
     "iopub.status.idle": "2023-05-13T12:20:53.570178Z",
     "shell.execute_reply": "2023-05-13T12:20:53.569205Z"
    },
    "papermill": {
     "duration": 0.029816,
     "end_time": "2023-05-13T12:20:53.572375",
     "exception": false,
     "start_time": "2023-05-13T12:20:53.542559",
     "status": "completed"
    },
    "tags": []
   },
   "outputs": [
    {
     "name": "stdout",
     "output_type": "stream",
     "text": [
      "!!! Debug mode !!!\n",
      "len(FILES_OBJECTIVE_EMB)=5\n",
      "len(FILES_CLIP_EMB)=5\n"
     ]
    }
   ],
   "source": [
    "# Reduce the number of files as debugging.\n",
    "if test_vision_embeddings.shape[0] == 7:   # 7 public test images\n",
    "    FILES_OBJECTIVE_EMB = FILES_OBJECTIVE_EMB[:5]\n",
    "    FILES_CLIP_EMB = FILES_CLIP_EMB[:5]\n",
    "    print(f\"!!! Debug mode !!!\")\n",
    "    print(f\"len(FILES_OBJECTIVE_EMB)={len(FILES_OBJECTIVE_EMB)}\")\n",
    "    print(f\"len(FILES_CLIP_EMB)={len(FILES_CLIP_EMB)}\")"
   ]
  },
  {
   "cell_type": "markdown",
   "id": "913960cc",
   "metadata": {
    "papermill": {
     "duration": 0.017813,
     "end_time": "2023-05-13T12:20:53.608084",
     "exception": false,
     "start_time": "2023-05-13T12:20:53.590271",
     "status": "completed"
    },
    "tags": []
   },
   "source": [
    "#### <a id=\"top\"></a>\n",
    "# <div style=\"box-shadow: rgb(60, 121, 245) 0px 0px 0px 3px inset, rgb(255, 255, 255) 10px -10px 0px -3px, rgb(31, 193, 27) 10px -10px, rgb(255, 255, 255) 20px -20px 0px -3px, rgb(255, 217, 19) 20px -20px, rgb(255, 255, 255) 30px -30px 0px -3px, rgb(255, 156, 85) 30px -30px, rgb(255, 255, 255) 40px -40px 0px -3px, rgb(255, 85, 85) 40px -40px; padding:20px; margin-right: 40px; font-size:30px; font-family: consolas; text-align:center; display:fill; border-radius:15px; color:rgb(60, 121, 245);\"><b> k-NN Regression (CUDA) </b></div>\n"
   ]
  },
  {
   "cell_type": "code",
   "execution_count": 23,
   "id": "4ef33564",
   "metadata": {
    "execution": {
     "iopub.execute_input": "2023-05-13T12:20:53.646099Z",
     "iopub.status.busy": "2023-05-13T12:20:53.645066Z",
     "iopub.status.idle": "2023-05-13T12:20:53.660198Z",
     "shell.execute_reply": "2023-05-13T12:20:53.659147Z"
    },
    "papermill": {
     "duration": 0.036732,
     "end_time": "2023-05-13T12:20:53.662572",
     "exception": false,
     "start_time": "2023-05-13T12:20:53.625840",
     "status": "completed"
    },
    "tags": []
   },
   "outputs": [],
   "source": [
    "def predict_local_knn(\n",
    "    ref_x_embeddings, test_x_embeddings, \n",
    "    n_neighbors=CFG.knn_topk,\n",
    "    interval=CFG.knn_interval,\n",
    "    distance_dim=CFG.knn_dim,\n",
    "    coef=1.0, # a coef to prevent from overflow\n",
    "):\n",
    "    \n",
    "    # convert to tensor\n",
    "    ref_x_embeddings = torch.from_numpy(ref_x_embeddings).to('cuda')\n",
    "    ref_x_embeddings /= ref_x_embeddings.norm(dim=-1, keepdim=True)\n",
    "    \n",
    "    n_iter = test_x_embeddings.shape[0]//interval\n",
    "    if test_x_embeddings.shape[0]%interval != 0:\n",
    "        n_iter += 1\n",
    "        \n",
    "    dist_topk_store = []\n",
    "    idxs_topk_store = []\n",
    "    weights_store = []\n",
    "    preds = []\n",
    "    delta = 0.0001\n",
    "    for i in range(n_iter):\n",
    "        batch_test_embeddings = torch.from_numpy(\n",
    "            test_x_embeddings[i*interval:(i+1)*interval, :].copy()\n",
    "        ).to('cuda')\n",
    "        batch_test_embeddings /= batch_test_embeddings.norm(dim=-1, keepdim=True)\n",
    "        \n",
    "        # calc distance matrix\n",
    "        dists = 1 - torch.mm(batch_test_embeddings, ref_x_embeddings.T) # dists.shape=[N_test, N_ref]\n",
    "        del batch_test_embeddings\n",
    "        gc.collect()\n",
    "        \n",
    "        # get topk indecies and distance\n",
    "        dist_topk, idxs_topk = torch.topk(dists, n_neighbors, largest=False, dim=-1)\n",
    "        dist_topk = dist_topk.to(torch.float64)        \n",
    "        \n",
    "        # calc weights from distance\n",
    "        weights = 1/(dist_topk**distance_dim+delta)*coef\n",
    "        weights[ dist_topk < 0 ] = delta\n",
    "        \n",
    "        dist_topk_store.append( dist_topk.to('cpu').detach().numpy().copy() )\n",
    "        idxs_topk_store.append( idxs_topk.to('cpu').detach().numpy().copy() )\n",
    "        weights_store.append( weights.to('cpu').detach().numpy().copy() )\n",
    "                \n",
    "        del dists, weights, dist_topk, idxs_topk\n",
    "        torch.cuda.empty_cache()\n",
    "        gc.collect()\n",
    "        \n",
    "    del ref_x_embeddings\n",
    "    torch.cuda.empty_cache()\n",
    "    gc.collect()\n",
    "    return np.concatenate(dist_topk_store), np.concatenate(idxs_topk_store), np.concatenate(weights_store)"
   ]
  },
  {
   "cell_type": "code",
   "execution_count": 24,
   "id": "b7d9027a",
   "metadata": {
    "execution": {
     "iopub.execute_input": "2023-05-13T12:20:53.700772Z",
     "iopub.status.busy": "2023-05-13T12:20:53.699818Z",
     "iopub.status.idle": "2023-05-13T12:21:20.648554Z",
     "shell.execute_reply": "2023-05-13T12:21:20.647452Z"
    },
    "papermill": {
     "duration": 26.971027,
     "end_time": "2023-05-13T12:21:20.651528",
     "exception": false,
     "start_time": "2023-05-13T12:20:53.680501",
     "status": "completed"
    },
    "tags": []
   },
   "outputs": [
    {
     "data": {
      "application/vnd.jupyter.widget-view+json": {
       "model_id": "27d0539fe3e3434b94da7cab526d4522",
       "version_major": 2,
       "version_minor": 0
      },
      "text/plain": [
       "  0%|          | 0/5 [00:00<?, ?it/s]"
      ]
     },
     "metadata": {},
     "output_type": "display_data"
    }
   ],
   "source": [
    "for i_file, file_clip_emb in enumerate(tqdm(FILES_CLIP_EMB)):\n",
    "    # Local k-NN (for each CLIP embeddings file VS CLIP vision embeddings of test images)\n",
    "    ref_clip_embeddings = np.load(file_clip_emb).astype(np.float16)\n",
    "    with torch.no_grad():\n",
    "        local_dists, local_emb_indecies, local_weights = predict_local_knn(\n",
    "            ref_clip_embeddings, test_vision_embeddings,\n",
    "            n_neighbors=CFG.knn_topk, interval=CFG.knn_interval, distance_dim=CFG.knn_dim,\n",
    "            coef=0.001\n",
    "        )\n",
    "    local_files = np.zeros(local_dists.shape, dtype=np.int32) + i_file\n",
    "    \n",
    "    # merge local k-NN into global k-NN\n",
    "    if i_file == 0:\n",
    "        global_files = local_files\n",
    "        global_dists = local_dists\n",
    "        global_emb_indecies = local_emb_indecies\n",
    "        global_weights = local_weights\n",
    "    else:\n",
    "        global_files = np.concatenate([global_files, local_files], axis=-1)\n",
    "        global_dists = np.concatenate([global_dists, local_dists], axis=-1)\n",
    "        global_emb_indecies = np.concatenate([global_emb_indecies, local_emb_indecies], axis=-1)\n",
    "        global_weights = np.concatenate([global_weights, local_weights], axis=-1)\n",
    "\n",
    "        unsorted_min_indices = np.argpartition(global_dists, CFG.knn_topk, axis=1)[:, :CFG.knn_topk]\n",
    "\n",
    "        global_files = np.vstack( [ global_files[i, unsorted_min_indices[i,:]] for i in range(unsorted_min_indices.shape[0]) ])\n",
    "        global_dists = np.vstack( [ global_dists[i, unsorted_min_indices[i,:]] for i in range(unsorted_min_indices.shape[0]) ])\n",
    "        global_emb_indecies = np.vstack( [ global_emb_indecies[i, unsorted_min_indices[i,:]] for i in range(unsorted_min_indices.shape[0]) ])\n",
    "        global_weights = np.vstack( [ global_weights[i, unsorted_min_indices[i,:]] for i in range(unsorted_min_indices.shape[0]) ])\n",
    "    \n",
    "    gc.collect()"
   ]
  },
  {
   "cell_type": "code",
   "execution_count": 25,
   "id": "285e46a7",
   "metadata": {
    "execution": {
     "iopub.execute_input": "2023-05-13T12:21:20.690116Z",
     "iopub.status.busy": "2023-05-13T12:21:20.689443Z",
     "iopub.status.idle": "2023-05-13T12:21:20.724655Z",
     "shell.execute_reply": "2023-05-13T12:21:20.723460Z"
    },
    "papermill": {
     "duration": 0.057496,
     "end_time": "2023-05-13T12:21:20.727563",
     "exception": false,
     "start_time": "2023-05-13T12:21:20.670067",
     "status": "completed"
    },
    "tags": []
   },
   "outputs": [
    {
     "data": {
      "text/html": [
       "<div>\n",
       "<style scoped>\n",
       "    .dataframe tbody tr th:only-of-type {\n",
       "        vertical-align: middle;\n",
       "    }\n",
       "\n",
       "    .dataframe tbody tr th {\n",
       "        vertical-align: top;\n",
       "    }\n",
       "\n",
       "    .dataframe thead th {\n",
       "        text-align: right;\n",
       "    }\n",
       "</style>\n",
       "<table border=\"1\" class=\"dataframe\">\n",
       "  <thead>\n",
       "    <tr style=\"text-align: right;\">\n",
       "      <th></th>\n",
       "      <th>file</th>\n",
       "      <th>dist</th>\n",
       "      <th>emb_index</th>\n",
       "      <th>test_index</th>\n",
       "      <th>weight</th>\n",
       "    </tr>\n",
       "  </thead>\n",
       "  <tbody>\n",
       "    <tr>\n",
       "      <th>0</th>\n",
       "      <td>/kaggle/input/pub-embeddings-diffusiondb-14m-p...</td>\n",
       "      <td>0.716797</td>\n",
       "      <td>35943</td>\n",
       "      <td>0</td>\n",
       "      <td>0.007367</td>\n",
       "    </tr>\n",
       "    <tr>\n",
       "      <th>1</th>\n",
       "      <td>/kaggle/input/pub-embeddings-diffusiondb-14m-p...</td>\n",
       "      <td>0.726562</td>\n",
       "      <td>60517</td>\n",
       "      <td>0</td>\n",
       "      <td>0.006793</td>\n",
       "    </tr>\n",
       "    <tr>\n",
       "      <th>2</th>\n",
       "      <td>/kaggle/input/pub-embeddings-diffusiondb-14m-p...</td>\n",
       "      <td>0.709961</td>\n",
       "      <td>98421</td>\n",
       "      <td>0</td>\n",
       "      <td>0.007803</td>\n",
       "    </tr>\n",
       "    <tr>\n",
       "      <th>3</th>\n",
       "      <td>/kaggle/input/pub-embeddings-diffusiondb-14m-p...</td>\n",
       "      <td>0.709961</td>\n",
       "      <td>98420</td>\n",
       "      <td>0</td>\n",
       "      <td>0.007803</td>\n",
       "    </tr>\n",
       "    <tr>\n",
       "      <th>4</th>\n",
       "      <td>/kaggle/input/pub-embeddings-diffusiondb-14m-p...</td>\n",
       "      <td>0.709961</td>\n",
       "      <td>98419</td>\n",
       "      <td>0</td>\n",
       "      <td>0.007803</td>\n",
       "    </tr>\n",
       "    <tr>\n",
       "      <th>...</th>\n",
       "      <td>...</td>\n",
       "      <td>...</td>\n",
       "      <td>...</td>\n",
       "      <td>...</td>\n",
       "      <td>...</td>\n",
       "    </tr>\n",
       "    <tr>\n",
       "      <th>695</th>\n",
       "      <td>/kaggle/input/pub-embeddings-diffusiondb-14m-p...</td>\n",
       "      <td>0.644531</td>\n",
       "      <td>22745</td>\n",
       "      <td>6</td>\n",
       "      <td>0.013929</td>\n",
       "    </tr>\n",
       "    <tr>\n",
       "      <th>696</th>\n",
       "      <td>/kaggle/input/pub-embeddings-diffusiondb-14m-p...</td>\n",
       "      <td>0.670898</td>\n",
       "      <td>23578</td>\n",
       "      <td>6</td>\n",
       "      <td>0.010954</td>\n",
       "    </tr>\n",
       "    <tr>\n",
       "      <th>697</th>\n",
       "      <td>/kaggle/input/pub-embeddings-diffusiondb-14m-p...</td>\n",
       "      <td>0.670898</td>\n",
       "      <td>23582</td>\n",
       "      <td>6</td>\n",
       "      <td>0.010954</td>\n",
       "    </tr>\n",
       "    <tr>\n",
       "      <th>698</th>\n",
       "      <td>/kaggle/input/pub-embeddings-diffusiondb-14m-p...</td>\n",
       "      <td>0.670898</td>\n",
       "      <td>23575</td>\n",
       "      <td>6</td>\n",
       "      <td>0.010954</td>\n",
       "    </tr>\n",
       "    <tr>\n",
       "      <th>699</th>\n",
       "      <td>/kaggle/input/pub-embeddings-diffusiondb-14m-p...</td>\n",
       "      <td>0.670898</td>\n",
       "      <td>23577</td>\n",
       "      <td>6</td>\n",
       "      <td>0.010954</td>\n",
       "    </tr>\n",
       "  </tbody>\n",
       "</table>\n",
       "<p>700 rows × 5 columns</p>\n",
       "</div>"
      ],
      "text/plain": [
       "                                                  file      dist  emb_index  \\\n",
       "0    /kaggle/input/pub-embeddings-diffusiondb-14m-p...  0.716797      35943   \n",
       "1    /kaggle/input/pub-embeddings-diffusiondb-14m-p...  0.726562      60517   \n",
       "2    /kaggle/input/pub-embeddings-diffusiondb-14m-p...  0.709961      98421   \n",
       "3    /kaggle/input/pub-embeddings-diffusiondb-14m-p...  0.709961      98420   \n",
       "4    /kaggle/input/pub-embeddings-diffusiondb-14m-p...  0.709961      98419   \n",
       "..                                                 ...       ...        ...   \n",
       "695  /kaggle/input/pub-embeddings-diffusiondb-14m-p...  0.644531      22745   \n",
       "696  /kaggle/input/pub-embeddings-diffusiondb-14m-p...  0.670898      23578   \n",
       "697  /kaggle/input/pub-embeddings-diffusiondb-14m-p...  0.670898      23582   \n",
       "698  /kaggle/input/pub-embeddings-diffusiondb-14m-p...  0.670898      23575   \n",
       "699  /kaggle/input/pub-embeddings-diffusiondb-14m-p...  0.670898      23577   \n",
       "\n",
       "     test_index    weight  \n",
       "0             0  0.007367  \n",
       "1             0  0.006793  \n",
       "2             0  0.007803  \n",
       "3             0  0.007803  \n",
       "4             0  0.007803  \n",
       "..          ...       ...  \n",
       "695           6  0.013929  \n",
       "696           6  0.010954  \n",
       "697           6  0.010954  \n",
       "698           6  0.010954  \n",
       "699           6  0.010954  \n",
       "\n",
       "[700 rows x 5 columns]"
      ]
     },
     "execution_count": 25,
     "metadata": {},
     "output_type": "execute_result"
    }
   ],
   "source": [
    "df_knn = pd.DataFrame()\n",
    "df_knn[\"file\"] = global_files.flatten()\n",
    "df_knn[\"file\"] = df_knn['file'].apply(lambda x: FILES_OBJECTIVE_EMB[x])\n",
    "df_knn[\"dist\"] = global_dists.flatten()\n",
    "df_knn[\"emb_index\"] = global_emb_indecies.flatten()\n",
    "df_knn[\"test_index\"] = np.array([ [val]*CFG.knn_topk for val in range(test_vision_embeddings.shape[0])]).flatten()\n",
    "df_knn[\"weight\"] = global_weights.flatten()\n",
    "df_knn"
   ]
  },
  {
   "cell_type": "code",
   "execution_count": 26,
   "id": "56998c5d",
   "metadata": {
    "execution": {
     "iopub.execute_input": "2023-05-13T12:21:20.767142Z",
     "iopub.status.busy": "2023-05-13T12:21:20.766762Z",
     "iopub.status.idle": "2023-05-13T12:21:20.927027Z",
     "shell.execute_reply": "2023-05-13T12:21:20.925949Z"
    },
    "papermill": {
     "duration": 0.182482,
     "end_time": "2023-05-13T12:21:20.929526",
     "exception": false,
     "start_time": "2023-05-13T12:21:20.747044",
     "status": "completed"
    },
    "tags": []
   },
   "outputs": [
    {
     "data": {
      "text/plain": [
       "39"
      ]
     },
     "execution_count": 26,
     "metadata": {},
     "output_type": "execute_result"
    }
   ],
   "source": [
    "gc.collect()"
   ]
  },
  {
   "cell_type": "code",
   "execution_count": 27,
   "id": "5419d3b1",
   "metadata": {
    "execution": {
     "iopub.execute_input": "2023-05-13T12:21:20.970929Z",
     "iopub.status.busy": "2023-05-13T12:21:20.969909Z",
     "iopub.status.idle": "2023-05-13T12:21:24.046340Z",
     "shell.execute_reply": "2023-05-13T12:21:24.044992Z"
    },
    "papermill": {
     "duration": 3.100303,
     "end_time": "2023-05-13T12:21:24.049833",
     "exception": false,
     "start_time": "2023-05-13T12:21:20.949530",
     "status": "completed"
    },
    "tags": []
   },
   "outputs": [
    {
     "data": {
      "application/vnd.jupyter.widget-view+json": {
       "model_id": "6ff459932b7a4f89bd3816f7d49d820a",
       "version_major": 2,
       "version_minor": 0
      },
      "text/plain": [
       "  0%|          | 0/5 [00:00<?, ?it/s]"
      ]
     },
     "metadata": {},
     "output_type": "display_data"
    }
   ],
   "source": [
    "# k-NN regression\n",
    "test_prompt_embeddings = np.zeros( (test_vision_embeddings.shape[0], 384))\n",
    "for (objective_emb_file, gdf) in tqdm(df_knn.groupby(\"file\")):\n",
    "    ref_objective_embeddings = np.load(objective_emb_file).astype(np.float16) \n",
    "    for _, r in gdf.iterrows():\n",
    "        test_prompt_embeddings[int(r.test_index), :] += r.weight * ref_objective_embeddings[int(r.emb_index), :]"
   ]
  },
  {
   "cell_type": "code",
   "execution_count": 28,
   "id": "b12bd3b2",
   "metadata": {
    "execution": {
     "iopub.execute_input": "2023-05-13T12:21:24.089514Z",
     "iopub.status.busy": "2023-05-13T12:21:24.088941Z",
     "iopub.status.idle": "2023-05-13T12:21:24.246887Z",
     "shell.execute_reply": "2023-05-13T12:21:24.245816Z"
    },
    "papermill": {
     "duration": 0.180273,
     "end_time": "2023-05-13T12:21:24.249274",
     "exception": false,
     "start_time": "2023-05-13T12:21:24.069001",
     "status": "completed"
    },
    "tags": []
   },
   "outputs": [
    {
     "data": {
      "text/plain": [
       "122"
      ]
     },
     "execution_count": 28,
     "metadata": {},
     "output_type": "execute_result"
    }
   ],
   "source": [
    "# L2 norm\n",
    "BS=1000\n",
    "num = test_prompt_embeddings.shape[0] // BS\n",
    "if test_prompt_embeddings.shape[0] % BS != 0:\n",
    "    num+=1\n",
    "for i in range(num):\n",
    "    embeddings = test_prompt_embeddings[i*BS:(i+1)*BS, :]\n",
    "    embeddings = embeddings / ( np.abs(embeddings).max(axis=-1, keepdims=True) + 0.0000001)\n",
    "    embeddings = normalize( embeddings )\n",
    "    test_prompt_embeddings[i*BS:(i+1)*BS, :] = embeddings\n",
    "    \n",
    "gc.collect()"
   ]
  },
  {
   "cell_type": "code",
   "execution_count": 29,
   "id": "58255720",
   "metadata": {
    "execution": {
     "iopub.execute_input": "2023-05-13T12:21:24.289786Z",
     "iopub.status.busy": "2023-05-13T12:21:24.288172Z",
     "iopub.status.idle": "2023-05-13T12:21:24.294139Z",
     "shell.execute_reply": "2023-05-13T12:21:24.292991Z"
    },
    "papermill": {
     "duration": 0.028117,
     "end_time": "2023-05-13T12:21:24.296488",
     "exception": false,
     "start_time": "2023-05-13T12:21:24.268371",
     "status": "completed"
    },
    "tags": []
   },
   "outputs": [],
   "source": [
    "test_prompt_embeddings = test_prompt_embeddings.flatten()"
   ]
  },
  {
   "cell_type": "code",
   "execution_count": null,
   "id": "5c203f89",
   "metadata": {
    "papermill": {
     "duration": 0.018775,
     "end_time": "2023-05-13T12:21:24.334387",
     "exception": false,
     "start_time": "2023-05-13T12:21:24.315612",
     "status": "completed"
    },
    "tags": []
   },
   "outputs": [],
   "source": []
  },
  {
   "cell_type": "code",
   "execution_count": 30,
   "id": "97df636d",
   "metadata": {
    "execution": {
     "iopub.execute_input": "2023-05-13T12:21:24.373722Z",
     "iopub.status.busy": "2023-05-13T12:21:24.373360Z",
     "iopub.status.idle": "2023-05-13T12:21:24.378294Z",
     "shell.execute_reply": "2023-05-13T12:21:24.377201Z"
    },
    "papermill": {
     "duration": 0.027343,
     "end_time": "2023-05-13T12:21:24.380642",
     "exception": false,
     "start_time": "2023-05-13T12:21:24.353299",
     "status": "completed"
    },
    "tags": []
   },
   "outputs": [],
   "source": [
    "wheels_path = \"/kaggle/input/clip-interrogator-wheels-x\"\n",
    "clip_interrogator_whl_path = f\"{wheels_path}/clip_interrogator-0.4.3-py3-none-any.whl\""
   ]
  },
  {
   "cell_type": "code",
   "execution_count": 31,
   "id": "bb89c4cf",
   "metadata": {
    "execution": {
     "iopub.execute_input": "2023-05-13T12:21:24.419740Z",
     "iopub.status.busy": "2023-05-13T12:21:24.419445Z",
     "iopub.status.idle": "2023-05-13T12:21:35.853422Z",
     "shell.execute_reply": "2023-05-13T12:21:35.852122Z"
    },
    "papermill": {
     "duration": 11.456899,
     "end_time": "2023-05-13T12:21:35.856341",
     "exception": false,
     "start_time": "2023-05-13T12:21:24.399442",
     "status": "completed"
    },
    "tags": []
   },
   "outputs": [
    {
     "name": "stdout",
     "output_type": "stream",
     "text": [
      "\u001b[33mWARNING: Running pip as the 'root' user can result in broken permissions and conflicting behaviour with the system package manager. It is recommended to use a virtual environment instead: https://pip.pypa.io/warnings/venv\u001b[0m\u001b[33m\r\n",
      "\u001b[0m"
     ]
    }
   ],
   "source": [
    "!pip install --no-index --find-links $wheels_path $clip_interrogator_whl_path -q"
   ]
  },
  {
   "cell_type": "code",
   "execution_count": 32,
   "id": "d0abb5e5",
   "metadata": {
    "execution": {
     "iopub.execute_input": "2023-05-13T12:21:35.896852Z",
     "iopub.status.busy": "2023-05-13T12:21:35.896465Z",
     "iopub.status.idle": "2023-05-13T12:21:35.966430Z",
     "shell.execute_reply": "2023-05-13T12:21:35.965355Z"
    },
    "papermill": {
     "duration": 0.093284,
     "end_time": "2023-05-13T12:21:35.969264",
     "exception": false,
     "start_time": "2023-05-13T12:21:35.875980",
     "status": "completed"
    },
    "tags": []
   },
   "outputs": [],
   "source": [
    "import inspect\n",
    "import importlib\n",
    "\n",
    "from blip.models import blip\n",
    "from clip_interrogator import clip_interrogator"
   ]
  },
  {
   "cell_type": "code",
   "execution_count": 33,
   "id": "3dfc2ab4",
   "metadata": {
    "execution": {
     "iopub.execute_input": "2023-05-13T12:21:36.010716Z",
     "iopub.status.busy": "2023-05-13T12:21:36.008928Z",
     "iopub.status.idle": "2023-05-13T12:21:36.023200Z",
     "shell.execute_reply": "2023-05-13T12:21:36.022118Z"
    },
    "papermill": {
     "duration": 0.037089,
     "end_time": "2023-05-13T12:21:36.025573",
     "exception": false,
     "start_time": "2023-05-13T12:21:35.988484",
     "status": "completed"
    },
    "tags": []
   },
   "outputs": [
    {
     "data": {
      "text/plain": [
       "<module 'blip.models.blip' from '/opt/conda/lib/python3.7/site-packages/blip/models/blip.py'>"
      ]
     },
     "execution_count": 33,
     "metadata": {},
     "output_type": "execute_result"
    }
   ],
   "source": [
    "# replace tokenizer path to prevent downloading\n",
    "blip_path = inspect.getfile(blip)\n",
    "\n",
    "fin = open(blip_path, \"rt\")\n",
    "data = fin.read()\n",
    "data = data.replace(\n",
    "    \"BertTokenizer.from_pretrained('bert-base-uncased')\", \n",
    "    \"BertTokenizer.from_pretrained('/kaggle/input/clip-interrogator-models-x/bert-base-uncased')\"\n",
    ")\n",
    "fin.close()\n",
    "\n",
    "fin = open(blip_path, \"wt\")\n",
    "fin.write(data)\n",
    "fin.close()\n",
    "\n",
    "# reload module\n",
    "importlib.reload(blip)"
   ]
  },
  {
   "cell_type": "code",
   "execution_count": 34,
   "id": "93600997",
   "metadata": {
    "execution": {
     "iopub.execute_input": "2023-05-13T12:21:36.065952Z",
     "iopub.status.busy": "2023-05-13T12:21:36.065036Z",
     "iopub.status.idle": "2023-05-13T12:21:36.081887Z",
     "shell.execute_reply": "2023-05-13T12:21:36.080773Z"
    },
    "papermill": {
     "duration": 0.039431,
     "end_time": "2023-05-13T12:21:36.084327",
     "exception": false,
     "start_time": "2023-05-13T12:21:36.044896",
     "status": "completed"
    },
    "tags": []
   },
   "outputs": [
    {
     "data": {
      "text/plain": [
       "<module 'clip_interrogator.clip_interrogator' from '/opt/conda/lib/python3.7/site-packages/clip_interrogator/clip_interrogator.py'>"
      ]
     },
     "execution_count": 34,
     "metadata": {},
     "output_type": "execute_result"
    }
   ],
   "source": [
    "# fix clip_interrogator bug\n",
    "clip_interrogator_path = inspect.getfile(clip_interrogator.Interrogator)\n",
    "\n",
    "fin = open(clip_interrogator_path, \"rt\")\n",
    "data = fin.read()\n",
    "data = data.replace(\n",
    "    'open_clip.get_tokenizer(clip_model_name)', \n",
    "    'open_clip.get_tokenizer(config.clip_model_name.split(\"/\", 2)[0])'\n",
    ")\n",
    "fin.close()\n",
    "\n",
    "fin = open(clip_interrogator_path, \"wt\")\n",
    "fin.write(data)\n",
    "fin.close()\n",
    "\n",
    "# reload module\n",
    "importlib.reload(clip_interrogator)"
   ]
  },
  {
   "cell_type": "code",
   "execution_count": 35,
   "id": "477a5193",
   "metadata": {
    "execution": {
     "iopub.execute_input": "2023-05-13T12:21:36.124777Z",
     "iopub.status.busy": "2023-05-13T12:21:36.123833Z",
     "iopub.status.idle": "2023-05-13T12:21:36.838911Z",
     "shell.execute_reply": "2023-05-13T12:21:36.837786Z"
    },
    "papermill": {
     "duration": 0.73834,
     "end_time": "2023-05-13T12:21:36.841876",
     "exception": false,
     "start_time": "2023-05-13T12:21:36.103536",
     "status": "completed"
    },
    "tags": []
   },
   "outputs": [],
   "source": [
    "import os\n",
    "import sys\n",
    "from PIL import Image\n",
    "from pathlib import Path\n",
    "import matplotlib.pyplot as plt \n",
    "\n",
    "import numpy as np\n",
    "import pandas as pd\n",
    "import torch\n",
    "import open_clip\n",
    "\n",
    "sys.path.append('../input/sentence-transformers-222/sentence-transformers')\n",
    "from sentence_transformers import SentenceTransformer, models\n",
    "\n",
    "comp_path = Path('/kaggle/input/stable-diffusion-image-to-prompts/')"
   ]
  },
  {
   "cell_type": "code",
   "execution_count": 36,
   "id": "67d4bc06",
   "metadata": {
    "execution": {
     "iopub.execute_input": "2023-05-13T12:21:36.882745Z",
     "iopub.status.busy": "2023-05-13T12:21:36.881784Z",
     "iopub.status.idle": "2023-05-13T12:21:36.887921Z",
     "shell.execute_reply": "2023-05-13T12:21:36.886858Z"
    },
    "papermill": {
     "duration": 0.028925,
     "end_time": "2023-05-13T12:21:36.890327",
     "exception": false,
     "start_time": "2023-05-13T12:21:36.861402",
     "status": "completed"
    },
    "tags": []
   },
   "outputs": [],
   "source": [
    "class CFG:\n",
    "    device = \"cuda\"\n",
    "    seed = 42\n",
    "    embedding_length = 384\n",
    "    sentence_model_path = \"/kaggle/input/sentence-transformers-222/all-MiniLM-L6-v2\"\n",
    "    blip_model_path = \"/kaggle/input/clip-interrogator-models-x/model_large_caption.pth\"\n",
    "    ci_clip_model_name = \"ViT-H-14/laion2b_s32b_b79k\"\n",
    "    clip_model_name = \"ViT-H-14\"\n",
    "    clip_model_path = \"/kaggle/input/clip-interrogator-models-x/CLIP-ViT-H-14-laion2B-s32B-b79K/open_clip_pytorch_model.bin\"\n",
    "    cache_path = \"/kaggle/input/clip-interrogator-models-x\""
   ]
  },
  {
   "cell_type": "code",
   "execution_count": 37,
   "id": "a7517e39",
   "metadata": {
    "execution": {
     "iopub.execute_input": "2023-05-13T12:21:36.931056Z",
     "iopub.status.busy": "2023-05-13T12:21:36.929953Z",
     "iopub.status.idle": "2023-05-13T12:21:36.950741Z",
     "shell.execute_reply": "2023-05-13T12:21:36.949607Z"
    },
    "papermill": {
     "duration": 0.043577,
     "end_time": "2023-05-13T12:21:36.953368",
     "exception": false,
     "start_time": "2023-05-13T12:21:36.909791",
     "status": "completed"
    },
    "tags": []
   },
   "outputs": [
    {
     "data": {
      "text/html": [
       "<div>\n",
       "<style scoped>\n",
       "    .dataframe tbody tr th:only-of-type {\n",
       "        vertical-align: middle;\n",
       "    }\n",
       "\n",
       "    .dataframe tbody tr th {\n",
       "        vertical-align: top;\n",
       "    }\n",
       "\n",
       "    .dataframe thead th {\n",
       "        text-align: right;\n",
       "    }\n",
       "</style>\n",
       "<table border=\"1\" class=\"dataframe\">\n",
       "  <thead>\n",
       "    <tr style=\"text-align: right;\">\n",
       "      <th></th>\n",
       "      <th>val</th>\n",
       "    </tr>\n",
       "    <tr>\n",
       "      <th>imgId_eId</th>\n",
       "      <th></th>\n",
       "    </tr>\n",
       "  </thead>\n",
       "  <tbody>\n",
       "    <tr>\n",
       "      <th>20057f34d_0</th>\n",
       "      <td>0.018848</td>\n",
       "    </tr>\n",
       "    <tr>\n",
       "      <th>20057f34d_1</th>\n",
       "      <td>0.030190</td>\n",
       "    </tr>\n",
       "    <tr>\n",
       "      <th>20057f34d_2</th>\n",
       "      <td>0.072792</td>\n",
       "    </tr>\n",
       "    <tr>\n",
       "      <th>20057f34d_3</th>\n",
       "      <td>-0.000673</td>\n",
       "    </tr>\n",
       "    <tr>\n",
       "      <th>20057f34d_4</th>\n",
       "      <td>0.016774</td>\n",
       "    </tr>\n",
       "  </tbody>\n",
       "</table>\n",
       "</div>"
      ],
      "text/plain": [
       "                  val\n",
       "imgId_eId            \n",
       "20057f34d_0  0.018848\n",
       "20057f34d_1  0.030190\n",
       "20057f34d_2  0.072792\n",
       "20057f34d_3 -0.000673\n",
       "20057f34d_4  0.016774"
      ]
     },
     "execution_count": 37,
     "metadata": {},
     "output_type": "execute_result"
    }
   ],
   "source": [
    "df_submission = pd.read_csv(comp_path / 'sample_submission.csv', index_col='imgId_eId')\n",
    "df_submission.head()"
   ]
  },
  {
   "cell_type": "code",
   "execution_count": 38,
   "id": "d4f2ad70",
   "metadata": {
    "execution": {
     "iopub.execute_input": "2023-05-13T12:21:36.993782Z",
     "iopub.status.busy": "2023-05-13T12:21:36.993461Z",
     "iopub.status.idle": "2023-05-13T12:21:37.008723Z",
     "shell.execute_reply": "2023-05-13T12:21:37.007767Z"
    },
    "papermill": {
     "duration": 0.037975,
     "end_time": "2023-05-13T12:21:37.011085",
     "exception": false,
     "start_time": "2023-05-13T12:21:36.973110",
     "status": "completed"
    },
    "tags": []
   },
   "outputs": [],
   "source": [
    "images = os.listdir(comp_path / 'images')\n",
    "imgIds = [i.split('.')[0] for i in images]\n",
    "\n",
    "eIds = list(range(CFG.embedding_length))\n",
    "\n",
    "imgId_eId = [\n",
    "    '_'.join(map(str, i)) for i in zip(\n",
    "        np.repeat(imgIds, CFG.embedding_length),\n",
    "        np.tile(range(CFG.embedding_length), len(imgIds))\n",
    "    )\n",
    "]\n",
    "\n",
    "assert sorted(imgId_eId) == sorted(df_submission.index)"
   ]
  },
  {
   "cell_type": "code",
   "execution_count": 39,
   "id": "e4984b2d",
   "metadata": {
    "execution": {
     "iopub.execute_input": "2023-05-13T12:21:37.051867Z",
     "iopub.status.busy": "2023-05-13T12:21:37.050855Z",
     "iopub.status.idle": "2023-05-13T12:21:39.103446Z",
     "shell.execute_reply": "2023-05-13T12:21:39.102353Z"
    },
    "papermill": {
     "duration": 2.075721,
     "end_time": "2023-05-13T12:21:39.106264",
     "exception": false,
     "start_time": "2023-05-13T12:21:37.030543",
     "status": "completed"
    },
    "tags": []
   },
   "outputs": [],
   "source": [
    "st_model = SentenceTransformer(CFG.sentence_model_path)"
   ]
  },
  {
   "cell_type": "code",
   "execution_count": 40,
   "id": "1daecdce",
   "metadata": {
    "execution": {
     "iopub.execute_input": "2023-05-13T12:21:39.147578Z",
     "iopub.status.busy": "2023-05-13T12:21:39.147213Z",
     "iopub.status.idle": "2023-05-13T12:21:39.152430Z",
     "shell.execute_reply": "2023-05-13T12:21:39.151317Z"
    },
    "papermill": {
     "duration": 0.028379,
     "end_time": "2023-05-13T12:21:39.154751",
     "exception": false,
     "start_time": "2023-05-13T12:21:39.126372",
     "status": "completed"
    },
    "tags": []
   },
   "outputs": [],
   "source": [
    "model_config = clip_interrogator.Config(clip_model_name=CFG.ci_clip_model_name)\n",
    "model_config.cache_path = CFG.cache_path"
   ]
  },
  {
   "cell_type": "code",
   "execution_count": 41,
   "id": "bf83095d",
   "metadata": {
    "execution": {
     "iopub.execute_input": "2023-05-13T12:21:39.195061Z",
     "iopub.status.busy": "2023-05-13T12:21:39.194703Z",
     "iopub.status.idle": "2023-05-13T12:22:08.895835Z",
     "shell.execute_reply": "2023-05-13T12:22:08.894770Z"
    },
    "papermill": {
     "duration": 29.724441,
     "end_time": "2023-05-13T12:22:08.898663",
     "exception": false,
     "start_time": "2023-05-13T12:21:39.174222",
     "status": "completed"
    },
    "tags": []
   },
   "outputs": [
    {
     "name": "stdout",
     "output_type": "stream",
     "text": [
      "load checkpoint from /kaggle/input/clip-interrogator-models-x/model_large_caption.pth\n"
     ]
    }
   ],
   "source": [
    "configs_path = os.path.join(os.path.dirname(os.path.dirname(blip_path)), 'configs')\n",
    "med_config = os.path.join(configs_path, 'med_config.json')\n",
    "blip_model = blip.blip_decoder(\n",
    "    pretrained=CFG.blip_model_path,\n",
    "    image_size=model_config.blip_image_eval_size, \n",
    "    vit=model_config.blip_model_type, \n",
    "    med_config=med_config\n",
    ")\n",
    "blip_model.eval()\n",
    "blip_model = blip_model.to(model_config.device)\n",
    "model_config.blip_model = blip_model"
   ]
  },
  {
   "cell_type": "code",
   "execution_count": 42,
   "id": "e46431d4",
   "metadata": {
    "execution": {
     "iopub.execute_input": "2023-05-13T12:22:08.939719Z",
     "iopub.status.busy": "2023-05-13T12:22:08.939374Z",
     "iopub.status.idle": "2023-05-13T12:22:55.399385Z",
     "shell.execute_reply": "2023-05-13T12:22:55.397991Z"
    },
    "papermill": {
     "duration": 46.484049,
     "end_time": "2023-05-13T12:22:55.402784",
     "exception": false,
     "start_time": "2023-05-13T12:22:08.918735",
     "status": "completed"
    },
    "tags": []
   },
   "outputs": [],
   "source": [
    "clip_model = open_clip.create_model(CFG.clip_model_name, precision='fp16' if model_config.device == 'cuda' else 'fp32')\n",
    "open_clip.load_checkpoint(clip_model, CFG.clip_model_path)\n",
    "clip_model.to(model_config.device).eval()\n",
    "model_config.clip_model = clip_model"
   ]
  },
  {
   "cell_type": "code",
   "execution_count": 43,
   "id": "ce56a408",
   "metadata": {
    "execution": {
     "iopub.execute_input": "2023-05-13T12:22:55.444555Z",
     "iopub.status.busy": "2023-05-13T12:22:55.443543Z",
     "iopub.status.idle": "2023-05-13T12:22:55.449664Z",
     "shell.execute_reply": "2023-05-13T12:22:55.448989Z"
    },
    "papermill": {
     "duration": 0.028932,
     "end_time": "2023-05-13T12:22:55.451877",
     "exception": false,
     "start_time": "2023-05-13T12:22:55.422945",
     "status": "completed"
    },
    "tags": []
   },
   "outputs": [],
   "source": [
    "clip_preprocess = open_clip.image_transform(\n",
    "    clip_model.visual.image_size,\n",
    "    is_train = False,\n",
    "    mean = getattr(clip_model.visual, 'image_mean', None),\n",
    "    std = getattr(clip_model.visual, 'image_std', None),\n",
    ")\n",
    "model_config.clip_preprocess = clip_preprocess"
   ]
  },
  {
   "cell_type": "code",
   "execution_count": 44,
   "id": "b80358b4",
   "metadata": {
    "execution": {
     "iopub.execute_input": "2023-05-13T12:22:55.492792Z",
     "iopub.status.busy": "2023-05-13T12:22:55.492204Z",
     "iopub.status.idle": "2023-05-13T12:22:58.000029Z",
     "shell.execute_reply": "2023-05-13T12:22:57.998922Z"
    },
    "papermill": {
     "duration": 2.530808,
     "end_time": "2023-05-13T12:22:58.002564",
     "exception": false,
     "start_time": "2023-05-13T12:22:55.471756",
     "status": "completed"
    },
    "tags": []
   },
   "outputs": [
    {
     "name": "stdout",
     "output_type": "stream",
     "text": [
      "Loaded CLIP model and data in 2.50 seconds.\n"
     ]
    }
   ],
   "source": [
    "ci = clip_interrogator.Interrogator(model_config)"
   ]
  },
  {
   "cell_type": "code",
   "execution_count": 45,
   "id": "a6058247",
   "metadata": {
    "execution": {
     "iopub.execute_input": "2023-05-13T12:22:58.043923Z",
     "iopub.status.busy": "2023-05-13T12:22:58.043313Z",
     "iopub.status.idle": "2023-05-13T12:22:58.712072Z",
     "shell.execute_reply": "2023-05-13T12:22:58.710972Z"
    },
    "papermill": {
     "duration": 0.6924,
     "end_time": "2023-05-13T12:22:58.714876",
     "exception": false,
     "start_time": "2023-05-13T12:22:58.022476",
     "status": "completed"
    },
    "tags": []
   },
   "outputs": [],
   "source": [
    "cos = torch.nn.CosineSimilarity(dim=1)\n",
    "\n",
    "mediums_features_array = torch.stack([torch.from_numpy(t) for t in ci.mediums.embeds]).to(ci.device)\n",
    "movements_features_array = torch.stack([torch.from_numpy(t) for t in ci.movements.embeds]).to(ci.device)\n",
    "flavors_features_array = torch.stack([torch.from_numpy(t) for t in ci.flavors.embeds]).to(ci.device)"
   ]
  },
  {
   "cell_type": "code",
   "execution_count": 46,
   "id": "2b41ae43",
   "metadata": {
    "execution": {
     "iopub.execute_input": "2023-05-13T12:22:58.755562Z",
     "iopub.status.busy": "2023-05-13T12:22:58.755206Z",
     "iopub.status.idle": "2023-05-13T12:22:58.765032Z",
     "shell.execute_reply": "2023-05-13T12:22:58.764021Z"
    },
    "papermill": {
     "duration": 0.032858,
     "end_time": "2023-05-13T12:22:58.767464",
     "exception": false,
     "start_time": "2023-05-13T12:22:58.734606",
     "status": "completed"
    },
    "tags": []
   },
   "outputs": [],
   "source": [
    "def interrogate(image: Image) -> str:\n",
    "    caption = ci.generate_caption(image)\n",
    "    image_features = ci.image_to_features(image)\n",
    "    \n",
    "    medium = [ci.mediums.labels[i] for i in cos(image_features, mediums_features_array).topk(1).indices][0]\n",
    "    movement = [ci.movements.labels[i] for i in cos(image_features, movements_features_array).topk(1).indices][0]\n",
    "    flaves = \", \".join([ci.flavors.labels[i] for i in cos(image_features, flavors_features_array).topk(3).indices])\n",
    "\n",
    "    if caption.startswith(medium):\n",
    "        prompt = f\"{caption}, {movement},  {flaves}\"\n",
    "    else:\n",
    "        prompt = f\"{caption}, {medium}, {movement}, {flaves}\"\n",
    "\n",
    "    return clip_interrogator._truncate_to_fit(prompt, ci.tokenize)"
   ]
  },
  {
   "cell_type": "code",
   "execution_count": 47,
   "id": "161308f1",
   "metadata": {
    "execution": {
     "iopub.execute_input": "2023-05-13T12:22:58.808129Z",
     "iopub.status.busy": "2023-05-13T12:22:58.807354Z",
     "iopub.status.idle": "2023-05-13T12:23:12.642941Z",
     "shell.execute_reply": "2023-05-13T12:23:12.641783Z"
    },
    "papermill": {
     "duration": 13.859105,
     "end_time": "2023-05-13T12:23:12.645950",
     "exception": false,
     "start_time": "2023-05-13T12:22:58.786845",
     "status": "completed"
    },
    "tags": []
   },
   "outputs": [],
   "source": [
    "prompts = []\n",
    "\n",
    "images_path = \"../input/stable-diffusion-image-to-prompts/images/\"\n",
    "for image_name in images:\n",
    "    img = Image.open(images_path + image_name).convert(\"RGB\")\n",
    "\n",
    "    generated = interrogate(img)\n",
    "    \n",
    "    prompts.append(generated)"
   ]
  },
  {
   "cell_type": "code",
   "execution_count": 48,
   "id": "5ef03638",
   "metadata": {
    "execution": {
     "iopub.execute_input": "2023-05-13T12:23:12.687707Z",
     "iopub.status.busy": "2023-05-13T12:23:12.686982Z",
     "iopub.status.idle": "2023-05-13T12:23:12.695859Z",
     "shell.execute_reply": "2023-05-13T12:23:12.694778Z"
    },
    "papermill": {
     "duration": 0.032001,
     "end_time": "2023-05-13T12:23:12.698151",
     "exception": false,
     "start_time": "2023-05-13T12:23:12.666150",
     "status": "completed"
    },
    "tags": []
   },
   "outputs": [],
   "source": [
    "def add_text_limiters(text: str) -> str:\n",
    "    return \" \".join([\n",
    "        word + \"\\n\" if i % 15 == 0 else word \n",
    "        for i, word in enumerate(text.split(\" \"), start=1)\n",
    "    ])\n",
    "\n",
    "def plot_image(image: np.ndarray, original_prompt: str, generated_prompt: str) -> None:\n",
    "    plt.figure(figsize=(10, 10))\n",
    "    plt.imshow(image)\n",
    "    plt.annotate(\n",
    "        \"Original prompt:\\n\" + add_text_limiters(original_prompt) + \"\\n\\nGenerated prompt:\\n\" + add_text_limiters(generated_prompt), \n",
    "        xy=(1.05, 0.5), xycoords='axes fraction', ha='left', va='center', \n",
    "        fontsize=16, rotation=0, color=\"#104a6e\"\n",
    "    )"
   ]
  },
  {
   "cell_type": "code",
   "execution_count": 49,
   "id": "42dc3120",
   "metadata": {
    "execution": {
     "iopub.execute_input": "2023-05-13T12:23:12.739421Z",
     "iopub.status.busy": "2023-05-13T12:23:12.738448Z",
     "iopub.status.idle": "2023-05-13T12:23:12.811337Z",
     "shell.execute_reply": "2023-05-13T12:23:12.810276Z"
    },
    "papermill": {
     "duration": 0.095822,
     "end_time": "2023-05-13T12:23:12.813539",
     "exception": false,
     "start_time": "2023-05-13T12:23:12.717717",
     "status": "completed"
    },
    "tags": []
   },
   "outputs": [
    {
     "data": {
      "application/vnd.jupyter.widget-view+json": {
       "model_id": "2879b78c57f747998555da008ddcd3a1",
       "version_major": 2,
       "version_minor": 0
      },
      "text/plain": [
       "Batches:   0%|          | 0/1 [00:00<?, ?it/s]"
      ]
     },
     "metadata": {},
     "output_type": "display_data"
    }
   ],
   "source": [
    "prompt_embeddings = st_model.encode(prompts).flatten()"
   ]
  },
  {
   "cell_type": "code",
   "execution_count": 50,
   "id": "cf714c50",
   "metadata": {
    "execution": {
     "iopub.execute_input": "2023-05-13T12:23:12.855931Z",
     "iopub.status.busy": "2023-05-13T12:23:12.855573Z",
     "iopub.status.idle": "2023-05-13T12:23:12.861802Z",
     "shell.execute_reply": "2023-05-13T12:23:12.860770Z"
    },
    "papermill": {
     "duration": 0.029667,
     "end_time": "2023-05-13T12:23:12.864159",
     "exception": false,
     "start_time": "2023-05-13T12:23:12.834492",
     "status": "completed"
    },
    "tags": []
   },
   "outputs": [],
   "source": [
    "import numpy as np\n",
    "import pandas as pd\n",
    "from pathlib import Path\n",
    "from PIL import Image\n",
    "from tqdm.notebook import tqdm\n",
    "import torch\n",
    "from torch.utils.data import Dataset, DataLoader\n",
    "from torchvision import transforms\n",
    "import timm\n",
    "from sklearn.preprocessing import normalize"
   ]
  },
  {
   "cell_type": "code",
   "execution_count": 51,
   "id": "babe63fd",
   "metadata": {
    "execution": {
     "iopub.execute_input": "2023-05-13T12:23:12.906127Z",
     "iopub.status.busy": "2023-05-13T12:23:12.904982Z",
     "iopub.status.idle": "2023-05-13T12:23:12.910993Z",
     "shell.execute_reply": "2023-05-13T12:23:12.910003Z"
    },
    "papermill": {
     "duration": 0.029405,
     "end_time": "2023-05-13T12:23:12.913417",
     "exception": false,
     "start_time": "2023-05-13T12:23:12.884012",
     "status": "completed"
    },
    "tags": []
   },
   "outputs": [],
   "source": [
    "class CFG:\n",
    "    model_path1 = '/kaggle/input/k/shoheiazuma/stable-diffusion-vit-baseline-train/vit_base_patch16_224.pth'\n",
    "    model_name1 = 'vit_base_patch16_224'\n",
    "    input_size1 = 224 \n",
    "    input_size = 384\n",
    "    batch_size = 64"
   ]
  },
  {
   "cell_type": "code",
   "execution_count": 52,
   "id": "1159236a",
   "metadata": {
    "execution": {
     "iopub.execute_input": "2023-05-13T12:23:12.955728Z",
     "iopub.status.busy": "2023-05-13T12:23:12.954826Z",
     "iopub.status.idle": "2023-05-13T12:23:12.961848Z",
     "shell.execute_reply": "2023-05-13T12:23:12.960893Z"
    },
    "papermill": {
     "duration": 0.030736,
     "end_time": "2023-05-13T12:23:12.964048",
     "exception": false,
     "start_time": "2023-05-13T12:23:12.933312",
     "status": "completed"
    },
    "tags": []
   },
   "outputs": [],
   "source": [
    "class DiffusionTestDataset(Dataset):\n",
    "    def __init__(self, images, transform):\n",
    "        self.images = images\n",
    "        self.transform = transform\n",
    "    \n",
    "    def __len__(self):\n",
    "        return len(self.images)\n",
    "\n",
    "    def __getitem__(self, idx):\n",
    "        image = Image.open(self.images[idx])\n",
    "        image = self.transform(image)\n",
    "        return image"
   ]
  },
  {
   "cell_type": "code",
   "execution_count": 53,
   "id": "7c8b1776",
   "metadata": {
    "execution": {
     "iopub.execute_input": "2023-05-13T12:23:13.007038Z",
     "iopub.status.busy": "2023-05-13T12:23:13.005926Z",
     "iopub.status.idle": "2023-05-13T12:23:13.019226Z",
     "shell.execute_reply": "2023-05-13T12:23:13.018260Z"
    },
    "papermill": {
     "duration": 0.03798,
     "end_time": "2023-05-13T12:23:13.021737",
     "exception": false,
     "start_time": "2023-05-13T12:23:12.983757",
     "status": "completed"
    },
    "tags": []
   },
   "outputs": [],
   "source": [
    "def predict(\n",
    "    images,\n",
    "    model_path,\n",
    "    model_name,\n",
    "    input_size,\n",
    "    batch_size\n",
    "):\n",
    "    device = torch.device('cuda' if torch.cuda.is_available() else 'cpu')\n",
    "    transform = transforms.Compose([\n",
    "        transforms.Resize(input_size),\n",
    "        transforms.RandomHorizontalFlip(p=0.5),\n",
    "        #transforms.RandomRotation(degrees=10),\n",
    "\n",
    "        #transforms.RandomVerticalFlip(p=0.5),\n",
    "        transforms.ToTensor(),\n",
    "        transforms.Normalize([0.485, 0.456, 0.406], [0.229, 0.224, 0.225]),\n",
    "    ])\n",
    "    dataset = DiffusionTestDataset(images, transform)\n",
    "    dataloader = DataLoader(\n",
    "        dataset=dataset,\n",
    "        shuffle=False,\n",
    "        batch_size=batch_size,\n",
    "        pin_memory=True,\n",
    "        num_workers=2,\n",
    "        drop_last=False\n",
    "    )\n",
    "\n",
    "    model = timm.create_model(\n",
    "        model_name,\n",
    "        pretrained=False,\n",
    "        num_classes=384\n",
    "    )\n",
    "    state_dict = torch.load(model_path)\n",
    "    model.load_state_dict(state_dict)\n",
    "    model.to(device)\n",
    "    model.eval()\n",
    "    \n",
    "    tta_preds = None\n",
    "    for _ in range(2):\n",
    "        preds = []\n",
    "        for X in tqdm(dataloader, leave=False):\n",
    "            X = X.to(device)\n",
    "\n",
    "            with torch.no_grad():\n",
    "                X_out = model(X).cpu().numpy()\n",
    "                # L2 normalize -- Start\n",
    "                X_out = X_out / ( np.abs(X_out).max(axis=-1, keepdims=True) + 0.0000001)  # To avoid to overflow at normalize()\n",
    "                X_out = normalize( X_out )\n",
    "                # L2 normalize -- End\n",
    "                preds.append(X_out)\n",
    "                \n",
    "        if tta_preds is None:\n",
    "            tta_preds = np.vstack(preds).flatten()\n",
    "        else:\n",
    "            tta_preds += np.vstack(preds).flatten()\n",
    "    \n",
    "    return tta_preds / 2"
   ]
  },
  {
   "cell_type": "code",
   "execution_count": 54,
   "id": "040a285e",
   "metadata": {
    "execution": {
     "iopub.execute_input": "2023-05-13T12:23:13.063748Z",
     "iopub.status.busy": "2023-05-13T12:23:13.062721Z",
     "iopub.status.idle": "2023-05-13T12:23:20.851165Z",
     "shell.execute_reply": "2023-05-13T12:23:20.849999Z"
    },
    "papermill": {
     "duration": 7.811877,
     "end_time": "2023-05-13T12:23:20.853772",
     "exception": false,
     "start_time": "2023-05-13T12:23:13.041895",
     "status": "completed"
    },
    "tags": []
   },
   "outputs": [
    {
     "data": {
      "application/vnd.jupyter.widget-view+json": {
       "model_id": "221334815767426caba9b59911a53594",
       "version_major": 2,
       "version_minor": 0
      },
      "text/plain": [
       "  0%|          | 0/1 [00:00<?, ?it/s]"
      ]
     },
     "metadata": {},
     "output_type": "display_data"
    },
    {
     "data": {
      "application/vnd.jupyter.widget-view+json": {
       "model_id": "e91c88db98be46d5b2f3a524805fe87d",
       "version_major": 2,
       "version_minor": 0
      },
      "text/plain": [
       "  0%|          | 0/1 [00:00<?, ?it/s]"
      ]
     },
     "metadata": {},
     "output_type": "display_data"
    }
   ],
   "source": [
    "images = list(Path('/kaggle/input/stable-diffusion-image-to-prompts/images').glob('*.png'))\n",
    "embeddings2 = predict(images, CFG.model_path1, CFG.model_name1, CFG.input_size1, CFG.batch_size)"
   ]
  },
  {
   "cell_type": "code",
   "execution_count": 55,
   "id": "10d3028b",
   "metadata": {
    "execution": {
     "iopub.execute_input": "2023-05-13T12:23:20.896543Z",
     "iopub.status.busy": "2023-05-13T12:23:20.896177Z",
     "iopub.status.idle": "2023-05-13T12:23:20.902149Z",
     "shell.execute_reply": "2023-05-13T12:23:20.900991Z"
    },
    "papermill": {
     "duration": 0.03044,
     "end_time": "2023-05-13T12:23:20.904648",
     "exception": false,
     "start_time": "2023-05-13T12:23:20.874208",
     "status": "completed"
    },
    "tags": []
   },
   "outputs": [],
   "source": [
    "test_prompt_embeddings = test_prompt_embeddings*0.60+prompt_embeddings*0.15+embeddings2*0.25"
   ]
  },
  {
   "cell_type": "code",
   "execution_count": null,
   "id": "029626a7",
   "metadata": {
    "papermill": {
     "duration": 0.019869,
     "end_time": "2023-05-13T12:23:20.944578",
     "exception": false,
     "start_time": "2023-05-13T12:23:20.924709",
     "status": "completed"
    },
    "tags": []
   },
   "outputs": [],
   "source": []
  },
  {
   "cell_type": "code",
   "execution_count": 56,
   "id": "8f6876e2",
   "metadata": {
    "execution": {
     "iopub.execute_input": "2023-05-13T12:23:20.985941Z",
     "iopub.status.busy": "2023-05-13T12:23:20.985598Z",
     "iopub.status.idle": "2023-05-13T12:23:21.016343Z",
     "shell.execute_reply": "2023-05-13T12:23:21.015348Z"
    },
    "papermill": {
     "duration": 0.054063,
     "end_time": "2023-05-13T12:23:21.018666",
     "exception": false,
     "start_time": "2023-05-13T12:23:20.964603",
     "status": "completed"
    },
    "tags": []
   },
   "outputs": [],
   "source": [
    "imgIds = [i.stem for i in test_images]\n",
    "EMBEDDING_LENGTH = 384\n",
    "imgId_eId = [\n",
    "    '_'.join(map(str, i)) for i in zip(\n",
    "        np.repeat(imgIds, EMBEDDING_LENGTH),\n",
    "        np.tile(range(EMBEDDING_LENGTH), len(imgIds)))]\n",
    "\n",
    "submission = pd.DataFrame(\n",
    "    index=imgId_eId,\n",
    "    data=test_prompt_embeddings,\n",
    "    columns=['val']\n",
    ").rename_axis('imgId_eId')\n",
    "submission.to_csv('submission.csv')"
   ]
  }
 ],
 "metadata": {
  "kernelspec": {
   "display_name": "Python 3",
   "language": "python",
   "name": "python3"
  },
  "language_info": {
   "codemirror_mode": {
    "name": "ipython",
    "version": 3
   },
   "file_extension": ".py",
   "mimetype": "text/x-python",
   "name": "python",
   "nbconvert_exporter": "python",
   "pygments_lexer": "ipython3",
   "version": "3.7.12"
  },
  "papermill": {
   "default_parameters": {},
   "duration": 223.981865,
   "end_time": "2023-05-13T12:23:24.841343",
   "environment_variables": {},
   "exception": null,
   "input_path": "__notebook__.ipynb",
   "output_path": "__notebook__.ipynb",
   "parameters": {},
   "start_time": "2023-05-13T12:19:40.859478",
   "version": "2.4.0"
  },
  "widgets": {
   "application/vnd.jupyter.widget-state+json": {
    "state": {
     "02c0ae1734b642d0aca0e3f693a2d068": {
      "model_module": "@jupyter-widgets/controls",
      "model_module_version": "1.5.0",
      "model_name": "FloatProgressModel",
      "state": {
       "_dom_classes": [],
       "_model_module": "@jupyter-widgets/controls",
       "_model_module_version": "1.5.0",
       "_model_name": "FloatProgressModel",
       "_view_count": null,
       "_view_module": "@jupyter-widgets/controls",
       "_view_module_version": "1.5.0",
       "_view_name": "ProgressView",
       "bar_style": "success",
       "description": "",
       "description_tooltip": null,
       "layout": "IPY_MODEL_5e9e0233d3ad48e79237d6a603003a35",
       "max": 7.0,
       "min": 0.0,
       "orientation": "horizontal",
       "style": "IPY_MODEL_eb6afde9aa134a5d9320e160234a464f",
       "value": 7.0
      }
     },
     "0bc05a07c2aa4af18ca16984ea3f9242": {
      "model_module": "@jupyter-widgets/base",
      "model_module_version": "1.2.0",
      "model_name": "LayoutModel",
      "state": {
       "_model_module": "@jupyter-widgets/base",
       "_model_module_version": "1.2.0",
       "_model_name": "LayoutModel",
       "_view_count": null,
       "_view_module": "@jupyter-widgets/base",
       "_view_module_version": "1.2.0",
       "_view_name": "LayoutView",
       "align_content": null,
       "align_items": null,
       "align_self": null,
       "border": null,
       "bottom": null,
       "display": null,
       "flex": null,
       "flex_flow": null,
       "grid_area": null,
       "grid_auto_columns": null,
       "grid_auto_flow": null,
       "grid_auto_rows": null,
       "grid_column": null,
       "grid_gap": null,
       "grid_row": null,
       "grid_template_areas": null,
       "grid_template_columns": null,
       "grid_template_rows": null,
       "height": null,
       "justify_content": null,
       "justify_items": null,
       "left": null,
       "margin": null,
       "max_height": null,
       "max_width": null,
       "min_height": null,
       "min_width": null,
       "object_fit": null,
       "object_position": null,
       "order": null,
       "overflow": null,
       "overflow_x": null,
       "overflow_y": null,
       "padding": null,
       "right": null,
       "top": null,
       "visibility": null,
       "width": null
      }
     },
     "107cfdbfcc3a45d891b50a4b40c95b60": {
      "model_module": "@jupyter-widgets/controls",
      "model_module_version": "1.5.0",
      "model_name": "HTMLModel",
      "state": {
       "_dom_classes": [],
       "_model_module": "@jupyter-widgets/controls",
       "_model_module_version": "1.5.0",
       "_model_name": "HTMLModel",
       "_view_count": null,
       "_view_module": "@jupyter-widgets/controls",
       "_view_module_version": "1.5.0",
       "_view_name": "HTMLView",
       "description": "",
       "description_tooltip": null,
       "layout": "IPY_MODEL_7a46ecdcb3424c9aa530ae6ff72c23c6",
       "placeholder": "​",
       "style": "IPY_MODEL_dc09482becf94ab1aa845e2d5e448497",
       "value": " 1/1 [00:00&lt;00:00,  3.00it/s]"
      }
     },
     "186d7bba83374c19aa7587a428bc13bb": {
      "model_module": "@jupyter-widgets/controls",
      "model_module_version": "1.5.0",
      "model_name": "FloatProgressModel",
      "state": {
       "_dom_classes": [],
       "_model_module": "@jupyter-widgets/controls",
       "_model_module_version": "1.5.0",
       "_model_name": "FloatProgressModel",
       "_view_count": null,
       "_view_module": "@jupyter-widgets/controls",
       "_view_module_version": "1.5.0",
       "_view_name": "ProgressView",
       "bar_style": "",
       "description": "",
       "description_tooltip": null,
       "layout": "IPY_MODEL_801403c2f7d44709964ff3d280bb56ab",
       "max": 1.0,
       "min": 0.0,
       "orientation": "horizontal",
       "style": "IPY_MODEL_51b84794428e4f01ab86d2972528d695",
       "value": 1.0
      }
     },
     "20d73b26151a40478711e277bf85c874": {
      "model_module": "@jupyter-widgets/base",
      "model_module_version": "1.2.0",
      "model_name": "LayoutModel",
      "state": {
       "_model_module": "@jupyter-widgets/base",
       "_model_module_version": "1.2.0",
       "_model_name": "LayoutModel",
       "_view_count": null,
       "_view_module": "@jupyter-widgets/base",
       "_view_module_version": "1.2.0",
       "_view_name": "LayoutView",
       "align_content": null,
       "align_items": null,
       "align_self": null,
       "border": null,
       "bottom": null,
       "display": null,
       "flex": null,
       "flex_flow": null,
       "grid_area": null,
       "grid_auto_columns": null,
       "grid_auto_flow": null,
       "grid_auto_rows": null,
       "grid_column": null,
       "grid_gap": null,
       "grid_row": null,
       "grid_template_areas": null,
       "grid_template_columns": null,
       "grid_template_rows": null,
       "height": null,
       "justify_content": null,
       "justify_items": null,
       "left": null,
       "margin": null,
       "max_height": null,
       "max_width": null,
       "min_height": null,
       "min_width": null,
       "object_fit": null,
       "object_position": null,
       "order": null,
       "overflow": null,
       "overflow_x": null,
       "overflow_y": null,
       "padding": null,
       "right": null,
       "top": null,
       "visibility": null,
       "width": null
      }
     },
     "221334815767426caba9b59911a53594": {
      "model_module": "@jupyter-widgets/controls",
      "model_module_version": "1.5.0",
      "model_name": "HBoxModel",
      "state": {
       "_dom_classes": [],
       "_model_module": "@jupyter-widgets/controls",
       "_model_module_version": "1.5.0",
       "_model_name": "HBoxModel",
       "_view_count": null,
       "_view_module": "@jupyter-widgets/controls",
       "_view_module_version": "1.5.0",
       "_view_name": "HBoxView",
       "box_style": "",
       "children": [
        "IPY_MODEL_7de5d19aabee4897b2cf64d86da6e1b3",
        "IPY_MODEL_523c4f3fdd9d4fd7ad1ec36416738c7e",
        "IPY_MODEL_3d4a719a4f604394bd6e0a49260e5cb6"
       ],
       "layout": "IPY_MODEL_9185b67a08d44416beae38b41990392a"
      }
     },
     "23a1e841cbf34680bbe63418fe97419c": {
      "model_module": "@jupyter-widgets/base",
      "model_module_version": "1.2.0",
      "model_name": "LayoutModel",
      "state": {
       "_model_module": "@jupyter-widgets/base",
       "_model_module_version": "1.2.0",
       "_model_name": "LayoutModel",
       "_view_count": null,
       "_view_module": "@jupyter-widgets/base",
       "_view_module_version": "1.2.0",
       "_view_name": "LayoutView",
       "align_content": null,
       "align_items": null,
       "align_self": null,
       "border": null,
       "bottom": null,
       "display": null,
       "flex": null,
       "flex_flow": null,
       "grid_area": null,
       "grid_auto_columns": null,
       "grid_auto_flow": null,
       "grid_auto_rows": null,
       "grid_column": null,
       "grid_gap": null,
       "grid_row": null,
       "grid_template_areas": null,
       "grid_template_columns": null,
       "grid_template_rows": null,
       "height": null,
       "justify_content": null,
       "justify_items": null,
       "left": null,
       "margin": null,
       "max_height": null,
       "max_width": null,
       "min_height": null,
       "min_width": null,
       "object_fit": null,
       "object_position": null,
       "order": null,
       "overflow": null,
       "overflow_x": null,
       "overflow_y": null,
       "padding": null,
       "right": null,
       "top": null,
       "visibility": null,
       "width": null
      }
     },
     "250d9743490c4f418cd345287e5a2073": {
      "model_module": "@jupyter-widgets/base",
      "model_module_version": "1.2.0",
      "model_name": "LayoutModel",
      "state": {
       "_model_module": "@jupyter-widgets/base",
       "_model_module_version": "1.2.0",
       "_model_name": "LayoutModel",
       "_view_count": null,
       "_view_module": "@jupyter-widgets/base",
       "_view_module_version": "1.2.0",
       "_view_name": "LayoutView",
       "align_content": null,
       "align_items": null,
       "align_self": null,
       "border": null,
       "bottom": null,
       "display": null,
       "flex": null,
       "flex_flow": null,
       "grid_area": null,
       "grid_auto_columns": null,
       "grid_auto_flow": null,
       "grid_auto_rows": null,
       "grid_column": null,
       "grid_gap": null,
       "grid_row": null,
       "grid_template_areas": null,
       "grid_template_columns": null,
       "grid_template_rows": null,
       "height": null,
       "justify_content": null,
       "justify_items": null,
       "left": null,
       "margin": null,
       "max_height": null,
       "max_width": null,
       "min_height": null,
       "min_width": null,
       "object_fit": null,
       "object_position": null,
       "order": null,
       "overflow": null,
       "overflow_x": null,
       "overflow_y": null,
       "padding": null,
       "right": null,
       "top": null,
       "visibility": null,
       "width": null
      }
     },
     "27d0539fe3e3434b94da7cab526d4522": {
      "model_module": "@jupyter-widgets/controls",
      "model_module_version": "1.5.0",
      "model_name": "HBoxModel",
      "state": {
       "_dom_classes": [],
       "_model_module": "@jupyter-widgets/controls",
       "_model_module_version": "1.5.0",
       "_model_name": "HBoxModel",
       "_view_count": null,
       "_view_module": "@jupyter-widgets/controls",
       "_view_module_version": "1.5.0",
       "_view_name": "HBoxView",
       "box_style": "",
       "children": [
        "IPY_MODEL_2d498a0898104f22bf7ef56711e72ca0",
        "IPY_MODEL_485540a3ead4411db488a6f21a0baee2",
        "IPY_MODEL_2aa79f3e085e4101b32651e358ccf013"
       ],
       "layout": "IPY_MODEL_b00831dbb7c344cdadc2b99a3654cab4"
      }
     },
     "2879b78c57f747998555da008ddcd3a1": {
      "model_module": "@jupyter-widgets/controls",
      "model_module_version": "1.5.0",
      "model_name": "HBoxModel",
      "state": {
       "_dom_classes": [],
       "_model_module": "@jupyter-widgets/controls",
       "_model_module_version": "1.5.0",
       "_model_name": "HBoxModel",
       "_view_count": null,
       "_view_module": "@jupyter-widgets/controls",
       "_view_module_version": "1.5.0",
       "_view_name": "HBoxView",
       "box_style": "",
       "children": [
        "IPY_MODEL_ccf52717991a4e2bb9122b093db32e31",
        "IPY_MODEL_c5149ca80f014895a3396c422b4b5f3e",
        "IPY_MODEL_835e17db332b4b7d9975a194cf9875f8"
       ],
       "layout": "IPY_MODEL_ba7acdbaead540aabf5de74d3c4e7d95"
      }
     },
     "2aa79f3e085e4101b32651e358ccf013": {
      "model_module": "@jupyter-widgets/controls",
      "model_module_version": "1.5.0",
      "model_name": "HTMLModel",
      "state": {
       "_dom_classes": [],
       "_model_module": "@jupyter-widgets/controls",
       "_model_module_version": "1.5.0",
       "_model_name": "HTMLModel",
       "_view_count": null,
       "_view_module": "@jupyter-widgets/controls",
       "_view_module_version": "1.5.0",
       "_view_name": "HTMLView",
       "description": "",
       "description_tooltip": null,
       "layout": "IPY_MODEL_9b27a9aafad04750acbe1cc2e5f86744",
       "placeholder": "​",
       "style": "IPY_MODEL_b333576a727442358b5287bcc8a390f0",
       "value": " 5/5 [00:26&lt;00:00,  5.15s/it]"
      }
     },
     "2d498a0898104f22bf7ef56711e72ca0": {
      "model_module": "@jupyter-widgets/controls",
      "model_module_version": "1.5.0",
      "model_name": "HTMLModel",
      "state": {
       "_dom_classes": [],
       "_model_module": "@jupyter-widgets/controls",
       "_model_module_version": "1.5.0",
       "_model_name": "HTMLModel",
       "_view_count": null,
       "_view_module": "@jupyter-widgets/controls",
       "_view_module_version": "1.5.0",
       "_view_name": "HTMLView",
       "description": "",
       "description_tooltip": null,
       "layout": "IPY_MODEL_250d9743490c4f418cd345287e5a2073",
       "placeholder": "​",
       "style": "IPY_MODEL_c27176fc2baf4bdc84620110d5331773",
       "value": "100%"
      }
     },
     "30d7317a34784343bd65668da9102ab8": {
      "model_module": "@jupyter-widgets/controls",
      "model_module_version": "1.5.0",
      "model_name": "DescriptionStyleModel",
      "state": {
       "_model_module": "@jupyter-widgets/controls",
       "_model_module_version": "1.5.0",
       "_model_name": "DescriptionStyleModel",
       "_view_count": null,
       "_view_module": "@jupyter-widgets/base",
       "_view_module_version": "1.2.0",
       "_view_name": "StyleView",
       "description_width": ""
      }
     },
     "32234bf9b42c4b94bc2427aa353fdede": {
      "model_module": "@jupyter-widgets/controls",
      "model_module_version": "1.5.0",
      "model_name": "ProgressStyleModel",
      "state": {
       "_model_module": "@jupyter-widgets/controls",
       "_model_module_version": "1.5.0",
       "_model_name": "ProgressStyleModel",
       "_view_count": null,
       "_view_module": "@jupyter-widgets/base",
       "_view_module_version": "1.2.0",
       "_view_name": "StyleView",
       "bar_color": null,
       "description_width": ""
      }
     },
     "39e74f82794f43d4a6abca0680567097": {
      "model_module": "@jupyter-widgets/controls",
      "model_module_version": "1.5.0",
      "model_name": "ProgressStyleModel",
      "state": {
       "_model_module": "@jupyter-widgets/controls",
       "_model_module_version": "1.5.0",
       "_model_name": "ProgressStyleModel",
       "_view_count": null,
       "_view_module": "@jupyter-widgets/base",
       "_view_module_version": "1.2.0",
       "_view_name": "StyleView",
       "bar_color": null,
       "description_width": ""
      }
     },
     "39f344d9f7484bb79aa873e25574941a": {
      "model_module": "@jupyter-widgets/base",
      "model_module_version": "1.2.0",
      "model_name": "LayoutModel",
      "state": {
       "_model_module": "@jupyter-widgets/base",
       "_model_module_version": "1.2.0",
       "_model_name": "LayoutModel",
       "_view_count": null,
       "_view_module": "@jupyter-widgets/base",
       "_view_module_version": "1.2.0",
       "_view_name": "LayoutView",
       "align_content": null,
       "align_items": null,
       "align_self": null,
       "border": null,
       "bottom": null,
       "display": null,
       "flex": null,
       "flex_flow": null,
       "grid_area": null,
       "grid_auto_columns": null,
       "grid_auto_flow": null,
       "grid_auto_rows": null,
       "grid_column": null,
       "grid_gap": null,
       "grid_row": null,
       "grid_template_areas": null,
       "grid_template_columns": null,
       "grid_template_rows": null,
       "height": null,
       "justify_content": null,
       "justify_items": null,
       "left": null,
       "margin": null,
       "max_height": null,
       "max_width": null,
       "min_height": null,
       "min_width": null,
       "object_fit": null,
       "object_position": null,
       "order": null,
       "overflow": null,
       "overflow_x": null,
       "overflow_y": null,
       "padding": null,
       "right": null,
       "top": null,
       "visibility": null,
       "width": null
      }
     },
     "3d4a719a4f604394bd6e0a49260e5cb6": {
      "model_module": "@jupyter-widgets/controls",
      "model_module_version": "1.5.0",
      "model_name": "HTMLModel",
      "state": {
       "_dom_classes": [],
       "_model_module": "@jupyter-widgets/controls",
       "_model_module_version": "1.5.0",
       "_model_name": "HTMLModel",
       "_view_count": null,
       "_view_module": "@jupyter-widgets/controls",
       "_view_module_version": "1.5.0",
       "_view_name": "HTMLView",
       "description": "",
       "description_tooltip": null,
       "layout": "IPY_MODEL_3fb65568df2d4a38a24f0d4e607c4053",
       "placeholder": "​",
       "style": "IPY_MODEL_a8255396f16644d58d6e07f0f1c63c36",
       "value": " 1/1 [00:00&lt;00:00,  2.74it/s]"
      }
     },
     "3fb65568df2d4a38a24f0d4e607c4053": {
      "model_module": "@jupyter-widgets/base",
      "model_module_version": "1.2.0",
      "model_name": "LayoutModel",
      "state": {
       "_model_module": "@jupyter-widgets/base",
       "_model_module_version": "1.2.0",
       "_model_name": "LayoutModel",
       "_view_count": null,
       "_view_module": "@jupyter-widgets/base",
       "_view_module_version": "1.2.0",
       "_view_name": "LayoutView",
       "align_content": null,
       "align_items": null,
       "align_self": null,
       "border": null,
       "bottom": null,
       "display": null,
       "flex": null,
       "flex_flow": null,
       "grid_area": null,
       "grid_auto_columns": null,
       "grid_auto_flow": null,
       "grid_auto_rows": null,
       "grid_column": null,
       "grid_gap": null,
       "grid_row": null,
       "grid_template_areas": null,
       "grid_template_columns": null,
       "grid_template_rows": null,
       "height": null,
       "justify_content": null,
       "justify_items": null,
       "left": null,
       "margin": null,
       "max_height": null,
       "max_width": null,
       "min_height": null,
       "min_width": null,
       "object_fit": null,
       "object_position": null,
       "order": null,
       "overflow": null,
       "overflow_x": null,
       "overflow_y": null,
       "padding": null,
       "right": null,
       "top": null,
       "visibility": null,
       "width": null
      }
     },
     "4631f4c5ddf34bad9e249f6e43897b82": {
      "model_module": "@jupyter-widgets/base",
      "model_module_version": "1.2.0",
      "model_name": "LayoutModel",
      "state": {
       "_model_module": "@jupyter-widgets/base",
       "_model_module_version": "1.2.0",
       "_model_name": "LayoutModel",
       "_view_count": null,
       "_view_module": "@jupyter-widgets/base",
       "_view_module_version": "1.2.0",
       "_view_name": "LayoutView",
       "align_content": null,
       "align_items": null,
       "align_self": null,
       "border": null,
       "bottom": null,
       "display": null,
       "flex": null,
       "flex_flow": null,
       "grid_area": null,
       "grid_auto_columns": null,
       "grid_auto_flow": null,
       "grid_auto_rows": null,
       "grid_column": null,
       "grid_gap": null,
       "grid_row": null,
       "grid_template_areas": null,
       "grid_template_columns": null,
       "grid_template_rows": null,
       "height": null,
       "justify_content": null,
       "justify_items": null,
       "left": null,
       "margin": null,
       "max_height": null,
       "max_width": null,
       "min_height": null,
       "min_width": null,
       "object_fit": null,
       "object_position": null,
       "order": null,
       "overflow": null,
       "overflow_x": null,
       "overflow_y": null,
       "padding": null,
       "right": null,
       "top": null,
       "visibility": null,
       "width": null
      }
     },
     "485540a3ead4411db488a6f21a0baee2": {
      "model_module": "@jupyter-widgets/controls",
      "model_module_version": "1.5.0",
      "model_name": "FloatProgressModel",
      "state": {
       "_dom_classes": [],
       "_model_module": "@jupyter-widgets/controls",
       "_model_module_version": "1.5.0",
       "_model_name": "FloatProgressModel",
       "_view_count": null,
       "_view_module": "@jupyter-widgets/controls",
       "_view_module_version": "1.5.0",
       "_view_name": "ProgressView",
       "bar_style": "success",
       "description": "",
       "description_tooltip": null,
       "layout": "IPY_MODEL_a67460e1a2a1402e9ec22438e98e17e0",
       "max": 5.0,
       "min": 0.0,
       "orientation": "horizontal",
       "style": "IPY_MODEL_32234bf9b42c4b94bc2427aa353fdede",
       "value": 5.0
      }
     },
     "4c13f331804b4dc8b2c55b4297262d24": {
      "model_module": "@jupyter-widgets/controls",
      "model_module_version": "1.5.0",
      "model_name": "DescriptionStyleModel",
      "state": {
       "_model_module": "@jupyter-widgets/controls",
       "_model_module_version": "1.5.0",
       "_model_name": "DescriptionStyleModel",
       "_view_count": null,
       "_view_module": "@jupyter-widgets/base",
       "_view_module_version": "1.2.0",
       "_view_name": "StyleView",
       "description_width": ""
      }
     },
     "51b84794428e4f01ab86d2972528d695": {
      "model_module": "@jupyter-widgets/controls",
      "model_module_version": "1.5.0",
      "model_name": "ProgressStyleModel",
      "state": {
       "_model_module": "@jupyter-widgets/controls",
       "_model_module_version": "1.5.0",
       "_model_name": "ProgressStyleModel",
       "_view_count": null,
       "_view_module": "@jupyter-widgets/base",
       "_view_module_version": "1.2.0",
       "_view_name": "StyleView",
       "bar_color": null,
       "description_width": ""
      }
     },
     "523c4f3fdd9d4fd7ad1ec36416738c7e": {
      "model_module": "@jupyter-widgets/controls",
      "model_module_version": "1.5.0",
      "model_name": "FloatProgressModel",
      "state": {
       "_dom_classes": [],
       "_model_module": "@jupyter-widgets/controls",
       "_model_module_version": "1.5.0",
       "_model_name": "FloatProgressModel",
       "_view_count": null,
       "_view_module": "@jupyter-widgets/controls",
       "_view_module_version": "1.5.0",
       "_view_name": "ProgressView",
       "bar_style": "",
       "description": "",
       "description_tooltip": null,
       "layout": "IPY_MODEL_20d73b26151a40478711e277bf85c874",
       "max": 1.0,
       "min": 0.0,
       "orientation": "horizontal",
       "style": "IPY_MODEL_d094169532224b4f8b13c8769ec1fd63",
       "value": 1.0
      }
     },
     "5468e0b1617c4464bdf653ff178ed8fc": {
      "model_module": "@jupyter-widgets/controls",
      "model_module_version": "1.5.0",
      "model_name": "HBoxModel",
      "state": {
       "_dom_classes": [],
       "_model_module": "@jupyter-widgets/controls",
       "_model_module_version": "1.5.0",
       "_model_name": "HBoxModel",
       "_view_count": null,
       "_view_module": "@jupyter-widgets/controls",
       "_view_module_version": "1.5.0",
       "_view_name": "HBoxView",
       "box_style": "",
       "children": [
        "IPY_MODEL_b59e5321d2564d76a116ffcbc8f6263f",
        "IPY_MODEL_02c0ae1734b642d0aca0e3f693a2d068",
        "IPY_MODEL_e65054236f6c4aaf86d819f1afae8052"
       ],
       "layout": "IPY_MODEL_7b82f47a144c4bc683c06e87736644bf"
      }
     },
     "5e9e0233d3ad48e79237d6a603003a35": {
      "model_module": "@jupyter-widgets/base",
      "model_module_version": "1.2.0",
      "model_name": "LayoutModel",
      "state": {
       "_model_module": "@jupyter-widgets/base",
       "_model_module_version": "1.2.0",
       "_model_name": "LayoutModel",
       "_view_count": null,
       "_view_module": "@jupyter-widgets/base",
       "_view_module_version": "1.2.0",
       "_view_name": "LayoutView",
       "align_content": null,
       "align_items": null,
       "align_self": null,
       "border": null,
       "bottom": null,
       "display": null,
       "flex": null,
       "flex_flow": null,
       "grid_area": null,
       "grid_auto_columns": null,
       "grid_auto_flow": null,
       "grid_auto_rows": null,
       "grid_column": null,
       "grid_gap": null,
       "grid_row": null,
       "grid_template_areas": null,
       "grid_template_columns": null,
       "grid_template_rows": null,
       "height": null,
       "justify_content": null,
       "justify_items": null,
       "left": null,
       "margin": null,
       "max_height": null,
       "max_width": null,
       "min_height": null,
       "min_width": null,
       "object_fit": null,
       "object_position": null,
       "order": null,
       "overflow": null,
       "overflow_x": null,
       "overflow_y": null,
       "padding": null,
       "right": null,
       "top": null,
       "visibility": null,
       "width": null
      }
     },
     "5f6034895f65432aa26935e937311b6f": {
      "model_module": "@jupyter-widgets/base",
      "model_module_version": "1.2.0",
      "model_name": "LayoutModel",
      "state": {
       "_model_module": "@jupyter-widgets/base",
       "_model_module_version": "1.2.0",
       "_model_name": "LayoutModel",
       "_view_count": null,
       "_view_module": "@jupyter-widgets/base",
       "_view_module_version": "1.2.0",
       "_view_name": "LayoutView",
       "align_content": null,
       "align_items": null,
       "align_self": null,
       "border": null,
       "bottom": null,
       "display": null,
       "flex": null,
       "flex_flow": null,
       "grid_area": null,
       "grid_auto_columns": null,
       "grid_auto_flow": null,
       "grid_auto_rows": null,
       "grid_column": null,
       "grid_gap": null,
       "grid_row": null,
       "grid_template_areas": null,
       "grid_template_columns": null,
       "grid_template_rows": null,
       "height": null,
       "justify_content": null,
       "justify_items": null,
       "left": null,
       "margin": null,
       "max_height": null,
       "max_width": null,
       "min_height": null,
       "min_width": null,
       "object_fit": null,
       "object_position": null,
       "order": null,
       "overflow": null,
       "overflow_x": null,
       "overflow_y": null,
       "padding": null,
       "right": null,
       "top": null,
       "visibility": null,
       "width": null
      }
     },
     "5fcf3c30eebc4aaa8484e2154825697f": {
      "model_module": "@jupyter-widgets/base",
      "model_module_version": "1.2.0",
      "model_name": "LayoutModel",
      "state": {
       "_model_module": "@jupyter-widgets/base",
       "_model_module_version": "1.2.0",
       "_model_name": "LayoutModel",
       "_view_count": null,
       "_view_module": "@jupyter-widgets/base",
       "_view_module_version": "1.2.0",
       "_view_name": "LayoutView",
       "align_content": null,
       "align_items": null,
       "align_self": null,
       "border": null,
       "bottom": null,
       "display": null,
       "flex": null,
       "flex_flow": null,
       "grid_area": null,
       "grid_auto_columns": null,
       "grid_auto_flow": null,
       "grid_auto_rows": null,
       "grid_column": null,
       "grid_gap": null,
       "grid_row": null,
       "grid_template_areas": null,
       "grid_template_columns": null,
       "grid_template_rows": null,
       "height": null,
       "justify_content": null,
       "justify_items": null,
       "left": null,
       "margin": null,
       "max_height": null,
       "max_width": null,
       "min_height": null,
       "min_width": null,
       "object_fit": null,
       "object_position": null,
       "order": null,
       "overflow": null,
       "overflow_x": null,
       "overflow_y": null,
       "padding": null,
       "right": null,
       "top": null,
       "visibility": "hidden",
       "width": null
      }
     },
     "622972e9fabd4b208e8c26b82a69cf38": {
      "model_module": "@jupyter-widgets/controls",
      "model_module_version": "1.5.0",
      "model_name": "HTMLModel",
      "state": {
       "_dom_classes": [],
       "_model_module": "@jupyter-widgets/controls",
       "_model_module_version": "1.5.0",
       "_model_name": "HTMLModel",
       "_view_count": null,
       "_view_module": "@jupyter-widgets/controls",
       "_view_module_version": "1.5.0",
       "_view_name": "HTMLView",
       "description": "",
       "description_tooltip": null,
       "layout": "IPY_MODEL_aae71a3fa2764ea09669d8117a15d27b",
       "placeholder": "​",
       "style": "IPY_MODEL_ba4eba104cb740fd8322320f606dd43d",
       "value": "100%"
      }
     },
     "66edd81e3de6441aac33306257377d4b": {
      "model_module": "@jupyter-widgets/controls",
      "model_module_version": "1.5.0",
      "model_name": "DescriptionStyleModel",
      "state": {
       "_model_module": "@jupyter-widgets/controls",
       "_model_module_version": "1.5.0",
       "_model_name": "DescriptionStyleModel",
       "_view_count": null,
       "_view_module": "@jupyter-widgets/base",
       "_view_module_version": "1.2.0",
       "_view_name": "StyleView",
       "description_width": ""
      }
     },
     "67f263a5f7b44d84ac758b47687e9c89": {
      "model_module": "@jupyter-widgets/base",
      "model_module_version": "1.2.0",
      "model_name": "LayoutModel",
      "state": {
       "_model_module": "@jupyter-widgets/base",
       "_model_module_version": "1.2.0",
       "_model_name": "LayoutModel",
       "_view_count": null,
       "_view_module": "@jupyter-widgets/base",
       "_view_module_version": "1.2.0",
       "_view_name": "LayoutView",
       "align_content": null,
       "align_items": null,
       "align_self": null,
       "border": null,
       "bottom": null,
       "display": null,
       "flex": null,
       "flex_flow": null,
       "grid_area": null,
       "grid_auto_columns": null,
       "grid_auto_flow": null,
       "grid_auto_rows": null,
       "grid_column": null,
       "grid_gap": null,
       "grid_row": null,
       "grid_template_areas": null,
       "grid_template_columns": null,
       "grid_template_rows": null,
       "height": null,
       "justify_content": null,
       "justify_items": null,
       "left": null,
       "margin": null,
       "max_height": null,
       "max_width": null,
       "min_height": null,
       "min_width": null,
       "object_fit": null,
       "object_position": null,
       "order": null,
       "overflow": null,
       "overflow_x": null,
       "overflow_y": null,
       "padding": null,
       "right": null,
       "top": null,
       "visibility": null,
       "width": null
      }
     },
     "6d3febbd45e34b12a5a91a840a1a775b": {
      "model_module": "@jupyter-widgets/base",
      "model_module_version": "1.2.0",
      "model_name": "LayoutModel",
      "state": {
       "_model_module": "@jupyter-widgets/base",
       "_model_module_version": "1.2.0",
       "_model_name": "LayoutModel",
       "_view_count": null,
       "_view_module": "@jupyter-widgets/base",
       "_view_module_version": "1.2.0",
       "_view_name": "LayoutView",
       "align_content": null,
       "align_items": null,
       "align_self": null,
       "border": null,
       "bottom": null,
       "display": null,
       "flex": null,
       "flex_flow": null,
       "grid_area": null,
       "grid_auto_columns": null,
       "grid_auto_flow": null,
       "grid_auto_rows": null,
       "grid_column": null,
       "grid_gap": null,
       "grid_row": null,
       "grid_template_areas": null,
       "grid_template_columns": null,
       "grid_template_rows": null,
       "height": null,
       "justify_content": null,
       "justify_items": null,
       "left": null,
       "margin": null,
       "max_height": null,
       "max_width": null,
       "min_height": null,
       "min_width": null,
       "object_fit": null,
       "object_position": null,
       "order": null,
       "overflow": null,
       "overflow_x": null,
       "overflow_y": null,
       "padding": null,
       "right": null,
       "top": null,
       "visibility": null,
       "width": null
      }
     },
     "6ff459932b7a4f89bd3816f7d49d820a": {
      "model_module": "@jupyter-widgets/controls",
      "model_module_version": "1.5.0",
      "model_name": "HBoxModel",
      "state": {
       "_dom_classes": [],
       "_model_module": "@jupyter-widgets/controls",
       "_model_module_version": "1.5.0",
       "_model_name": "HBoxModel",
       "_view_count": null,
       "_view_module": "@jupyter-widgets/controls",
       "_view_module_version": "1.5.0",
       "_view_name": "HBoxView",
       "box_style": "",
       "children": [
        "IPY_MODEL_7ea8c9e8ea834376b40e60ac36e0bc92",
        "IPY_MODEL_ddc9cabc6fbe493ea1cbcf4489db935e",
        "IPY_MODEL_e3cbf0381ec14420a0e66a4b4e585ee2"
       ],
       "layout": "IPY_MODEL_73d0cd33aab94d81b5bbdefe52f73bd8"
      }
     },
     "73d0cd33aab94d81b5bbdefe52f73bd8": {
      "model_module": "@jupyter-widgets/base",
      "model_module_version": "1.2.0",
      "model_name": "LayoutModel",
      "state": {
       "_model_module": "@jupyter-widgets/base",
       "_model_module_version": "1.2.0",
       "_model_name": "LayoutModel",
       "_view_count": null,
       "_view_module": "@jupyter-widgets/base",
       "_view_module_version": "1.2.0",
       "_view_name": "LayoutView",
       "align_content": null,
       "align_items": null,
       "align_self": null,
       "border": null,
       "bottom": null,
       "display": null,
       "flex": null,
       "flex_flow": null,
       "grid_area": null,
       "grid_auto_columns": null,
       "grid_auto_flow": null,
       "grid_auto_rows": null,
       "grid_column": null,
       "grid_gap": null,
       "grid_row": null,
       "grid_template_areas": null,
       "grid_template_columns": null,
       "grid_template_rows": null,
       "height": null,
       "justify_content": null,
       "justify_items": null,
       "left": null,
       "margin": null,
       "max_height": null,
       "max_width": null,
       "min_height": null,
       "min_width": null,
       "object_fit": null,
       "object_position": null,
       "order": null,
       "overflow": null,
       "overflow_x": null,
       "overflow_y": null,
       "padding": null,
       "right": null,
       "top": null,
       "visibility": null,
       "width": null
      }
     },
     "7a46ecdcb3424c9aa530ae6ff72c23c6": {
      "model_module": "@jupyter-widgets/base",
      "model_module_version": "1.2.0",
      "model_name": "LayoutModel",
      "state": {
       "_model_module": "@jupyter-widgets/base",
       "_model_module_version": "1.2.0",
       "_model_name": "LayoutModel",
       "_view_count": null,
       "_view_module": "@jupyter-widgets/base",
       "_view_module_version": "1.2.0",
       "_view_name": "LayoutView",
       "align_content": null,
       "align_items": null,
       "align_self": null,
       "border": null,
       "bottom": null,
       "display": null,
       "flex": null,
       "flex_flow": null,
       "grid_area": null,
       "grid_auto_columns": null,
       "grid_auto_flow": null,
       "grid_auto_rows": null,
       "grid_column": null,
       "grid_gap": null,
       "grid_row": null,
       "grid_template_areas": null,
       "grid_template_columns": null,
       "grid_template_rows": null,
       "height": null,
       "justify_content": null,
       "justify_items": null,
       "left": null,
       "margin": null,
       "max_height": null,
       "max_width": null,
       "min_height": null,
       "min_width": null,
       "object_fit": null,
       "object_position": null,
       "order": null,
       "overflow": null,
       "overflow_x": null,
       "overflow_y": null,
       "padding": null,
       "right": null,
       "top": null,
       "visibility": null,
       "width": null
      }
     },
     "7b82f47a144c4bc683c06e87736644bf": {
      "model_module": "@jupyter-widgets/base",
      "model_module_version": "1.2.0",
      "model_name": "LayoutModel",
      "state": {
       "_model_module": "@jupyter-widgets/base",
       "_model_module_version": "1.2.0",
       "_model_name": "LayoutModel",
       "_view_count": null,
       "_view_module": "@jupyter-widgets/base",
       "_view_module_version": "1.2.0",
       "_view_name": "LayoutView",
       "align_content": null,
       "align_items": null,
       "align_self": null,
       "border": null,
       "bottom": null,
       "display": null,
       "flex": null,
       "flex_flow": null,
       "grid_area": null,
       "grid_auto_columns": null,
       "grid_auto_flow": null,
       "grid_auto_rows": null,
       "grid_column": null,
       "grid_gap": null,
       "grid_row": null,
       "grid_template_areas": null,
       "grid_template_columns": null,
       "grid_template_rows": null,
       "height": null,
       "justify_content": null,
       "justify_items": null,
       "left": null,
       "margin": null,
       "max_height": null,
       "max_width": null,
       "min_height": null,
       "min_width": null,
       "object_fit": null,
       "object_position": null,
       "order": null,
       "overflow": null,
       "overflow_x": null,
       "overflow_y": null,
       "padding": null,
       "right": null,
       "top": null,
       "visibility": null,
       "width": null
      }
     },
     "7bdf069e335b4370a5efec81913547e7": {
      "model_module": "@jupyter-widgets/base",
      "model_module_version": "1.2.0",
      "model_name": "LayoutModel",
      "state": {
       "_model_module": "@jupyter-widgets/base",
       "_model_module_version": "1.2.0",
       "_model_name": "LayoutModel",
       "_view_count": null,
       "_view_module": "@jupyter-widgets/base",
       "_view_module_version": "1.2.0",
       "_view_name": "LayoutView",
       "align_content": null,
       "align_items": null,
       "align_self": null,
       "border": null,
       "bottom": null,
       "display": null,
       "flex": null,
       "flex_flow": null,
       "grid_area": null,
       "grid_auto_columns": null,
       "grid_auto_flow": null,
       "grid_auto_rows": null,
       "grid_column": null,
       "grid_gap": null,
       "grid_row": null,
       "grid_template_areas": null,
       "grid_template_columns": null,
       "grid_template_rows": null,
       "height": null,
       "justify_content": null,
       "justify_items": null,
       "left": null,
       "margin": null,
       "max_height": null,
       "max_width": null,
       "min_height": null,
       "min_width": null,
       "object_fit": null,
       "object_position": null,
       "order": null,
       "overflow": null,
       "overflow_x": null,
       "overflow_y": null,
       "padding": null,
       "right": null,
       "top": null,
       "visibility": null,
       "width": null
      }
     },
     "7de5d19aabee4897b2cf64d86da6e1b3": {
      "model_module": "@jupyter-widgets/controls",
      "model_module_version": "1.5.0",
      "model_name": "HTMLModel",
      "state": {
       "_dom_classes": [],
       "_model_module": "@jupyter-widgets/controls",
       "_model_module_version": "1.5.0",
       "_model_name": "HTMLModel",
       "_view_count": null,
       "_view_module": "@jupyter-widgets/controls",
       "_view_module_version": "1.5.0",
       "_view_name": "HTMLView",
       "description": "",
       "description_tooltip": null,
       "layout": "IPY_MODEL_f21d831a8b434474b2868d6a931f1b75",
       "placeholder": "​",
       "style": "IPY_MODEL_fb2cbaf53e1349f79e7cc02110939a62",
       "value": "100%"
      }
     },
     "7ea8c9e8ea834376b40e60ac36e0bc92": {
      "model_module": "@jupyter-widgets/controls",
      "model_module_version": "1.5.0",
      "model_name": "HTMLModel",
      "state": {
       "_dom_classes": [],
       "_model_module": "@jupyter-widgets/controls",
       "_model_module_version": "1.5.0",
       "_model_name": "HTMLModel",
       "_view_count": null,
       "_view_module": "@jupyter-widgets/controls",
       "_view_module_version": "1.5.0",
       "_view_name": "HTMLView",
       "description": "",
       "description_tooltip": null,
       "layout": "IPY_MODEL_7bdf069e335b4370a5efec81913547e7",
       "placeholder": "​",
       "style": "IPY_MODEL_a39ba070d5ef4a54b4519d3db624ecd8",
       "value": "100%"
      }
     },
     "801403c2f7d44709964ff3d280bb56ab": {
      "model_module": "@jupyter-widgets/base",
      "model_module_version": "1.2.0",
      "model_name": "LayoutModel",
      "state": {
       "_model_module": "@jupyter-widgets/base",
       "_model_module_version": "1.2.0",
       "_model_name": "LayoutModel",
       "_view_count": null,
       "_view_module": "@jupyter-widgets/base",
       "_view_module_version": "1.2.0",
       "_view_name": "LayoutView",
       "align_content": null,
       "align_items": null,
       "align_self": null,
       "border": null,
       "bottom": null,
       "display": null,
       "flex": null,
       "flex_flow": null,
       "grid_area": null,
       "grid_auto_columns": null,
       "grid_auto_flow": null,
       "grid_auto_rows": null,
       "grid_column": null,
       "grid_gap": null,
       "grid_row": null,
       "grid_template_areas": null,
       "grid_template_columns": null,
       "grid_template_rows": null,
       "height": null,
       "justify_content": null,
       "justify_items": null,
       "left": null,
       "margin": null,
       "max_height": null,
       "max_width": null,
       "min_height": null,
       "min_width": null,
       "object_fit": null,
       "object_position": null,
       "order": null,
       "overflow": null,
       "overflow_x": null,
       "overflow_y": null,
       "padding": null,
       "right": null,
       "top": null,
       "visibility": null,
       "width": null
      }
     },
     "835e17db332b4b7d9975a194cf9875f8": {
      "model_module": "@jupyter-widgets/controls",
      "model_module_version": "1.5.0",
      "model_name": "HTMLModel",
      "state": {
       "_dom_classes": [],
       "_model_module": "@jupyter-widgets/controls",
       "_model_module_version": "1.5.0",
       "_model_name": "HTMLModel",
       "_view_count": null,
       "_view_module": "@jupyter-widgets/controls",
       "_view_module_version": "1.5.0",
       "_view_name": "HTMLView",
       "description": "",
       "description_tooltip": null,
       "layout": "IPY_MODEL_39f344d9f7484bb79aa873e25574941a",
       "placeholder": "​",
       "style": "IPY_MODEL_66edd81e3de6441aac33306257377d4b",
       "value": " 1/1 [00:00&lt;00:00, 29.73it/s]"
      }
     },
     "8d2a144e0c29407e838f4c2de15316fd": {
      "model_module": "@jupyter-widgets/controls",
      "model_module_version": "1.5.0",
      "model_name": "DescriptionStyleModel",
      "state": {
       "_model_module": "@jupyter-widgets/controls",
       "_model_module_version": "1.5.0",
       "_model_name": "DescriptionStyleModel",
       "_view_count": null,
       "_view_module": "@jupyter-widgets/base",
       "_view_module_version": "1.2.0",
       "_view_name": "StyleView",
       "description_width": ""
      }
     },
     "9185b67a08d44416beae38b41990392a": {
      "model_module": "@jupyter-widgets/base",
      "model_module_version": "1.2.0",
      "model_name": "LayoutModel",
      "state": {
       "_model_module": "@jupyter-widgets/base",
       "_model_module_version": "1.2.0",
       "_model_name": "LayoutModel",
       "_view_count": null,
       "_view_module": "@jupyter-widgets/base",
       "_view_module_version": "1.2.0",
       "_view_name": "LayoutView",
       "align_content": null,
       "align_items": null,
       "align_self": null,
       "border": null,
       "bottom": null,
       "display": null,
       "flex": null,
       "flex_flow": null,
       "grid_area": null,
       "grid_auto_columns": null,
       "grid_auto_flow": null,
       "grid_auto_rows": null,
       "grid_column": null,
       "grid_gap": null,
       "grid_row": null,
       "grid_template_areas": null,
       "grid_template_columns": null,
       "grid_template_rows": null,
       "height": null,
       "justify_content": null,
       "justify_items": null,
       "left": null,
       "margin": null,
       "max_height": null,
       "max_width": null,
       "min_height": null,
       "min_width": null,
       "object_fit": null,
       "object_position": null,
       "order": null,
       "overflow": null,
       "overflow_x": null,
       "overflow_y": null,
       "padding": null,
       "right": null,
       "top": null,
       "visibility": "hidden",
       "width": null
      }
     },
     "9b27a9aafad04750acbe1cc2e5f86744": {
      "model_module": "@jupyter-widgets/base",
      "model_module_version": "1.2.0",
      "model_name": "LayoutModel",
      "state": {
       "_model_module": "@jupyter-widgets/base",
       "_model_module_version": "1.2.0",
       "_model_name": "LayoutModel",
       "_view_count": null,
       "_view_module": "@jupyter-widgets/base",
       "_view_module_version": "1.2.0",
       "_view_name": "LayoutView",
       "align_content": null,
       "align_items": null,
       "align_self": null,
       "border": null,
       "bottom": null,
       "display": null,
       "flex": null,
       "flex_flow": null,
       "grid_area": null,
       "grid_auto_columns": null,
       "grid_auto_flow": null,
       "grid_auto_rows": null,
       "grid_column": null,
       "grid_gap": null,
       "grid_row": null,
       "grid_template_areas": null,
       "grid_template_columns": null,
       "grid_template_rows": null,
       "height": null,
       "justify_content": null,
       "justify_items": null,
       "left": null,
       "margin": null,
       "max_height": null,
       "max_width": null,
       "min_height": null,
       "min_width": null,
       "object_fit": null,
       "object_position": null,
       "order": null,
       "overflow": null,
       "overflow_x": null,
       "overflow_y": null,
       "padding": null,
       "right": null,
       "top": null,
       "visibility": null,
       "width": null
      }
     },
     "a39ba070d5ef4a54b4519d3db624ecd8": {
      "model_module": "@jupyter-widgets/controls",
      "model_module_version": "1.5.0",
      "model_name": "DescriptionStyleModel",
      "state": {
       "_model_module": "@jupyter-widgets/controls",
       "_model_module_version": "1.5.0",
       "_model_name": "DescriptionStyleModel",
       "_view_count": null,
       "_view_module": "@jupyter-widgets/base",
       "_view_module_version": "1.2.0",
       "_view_name": "StyleView",
       "description_width": ""
      }
     },
     "a67460e1a2a1402e9ec22438e98e17e0": {
      "model_module": "@jupyter-widgets/base",
      "model_module_version": "1.2.0",
      "model_name": "LayoutModel",
      "state": {
       "_model_module": "@jupyter-widgets/base",
       "_model_module_version": "1.2.0",
       "_model_name": "LayoutModel",
       "_view_count": null,
       "_view_module": "@jupyter-widgets/base",
       "_view_module_version": "1.2.0",
       "_view_name": "LayoutView",
       "align_content": null,
       "align_items": null,
       "align_self": null,
       "border": null,
       "bottom": null,
       "display": null,
       "flex": null,
       "flex_flow": null,
       "grid_area": null,
       "grid_auto_columns": null,
       "grid_auto_flow": null,
       "grid_auto_rows": null,
       "grid_column": null,
       "grid_gap": null,
       "grid_row": null,
       "grid_template_areas": null,
       "grid_template_columns": null,
       "grid_template_rows": null,
       "height": null,
       "justify_content": null,
       "justify_items": null,
       "left": null,
       "margin": null,
       "max_height": null,
       "max_width": null,
       "min_height": null,
       "min_width": null,
       "object_fit": null,
       "object_position": null,
       "order": null,
       "overflow": null,
       "overflow_x": null,
       "overflow_y": null,
       "padding": null,
       "right": null,
       "top": null,
       "visibility": null,
       "width": null
      }
     },
     "a8255396f16644d58d6e07f0f1c63c36": {
      "model_module": "@jupyter-widgets/controls",
      "model_module_version": "1.5.0",
      "model_name": "DescriptionStyleModel",
      "state": {
       "_model_module": "@jupyter-widgets/controls",
       "_model_module_version": "1.5.0",
       "_model_name": "DescriptionStyleModel",
       "_view_count": null,
       "_view_module": "@jupyter-widgets/base",
       "_view_module_version": "1.2.0",
       "_view_name": "StyleView",
       "description_width": ""
      }
     },
     "aae71a3fa2764ea09669d8117a15d27b": {
      "model_module": "@jupyter-widgets/base",
      "model_module_version": "1.2.0",
      "model_name": "LayoutModel",
      "state": {
       "_model_module": "@jupyter-widgets/base",
       "_model_module_version": "1.2.0",
       "_model_name": "LayoutModel",
       "_view_count": null,
       "_view_module": "@jupyter-widgets/base",
       "_view_module_version": "1.2.0",
       "_view_name": "LayoutView",
       "align_content": null,
       "align_items": null,
       "align_self": null,
       "border": null,
       "bottom": null,
       "display": null,
       "flex": null,
       "flex_flow": null,
       "grid_area": null,
       "grid_auto_columns": null,
       "grid_auto_flow": null,
       "grid_auto_rows": null,
       "grid_column": null,
       "grid_gap": null,
       "grid_row": null,
       "grid_template_areas": null,
       "grid_template_columns": null,
       "grid_template_rows": null,
       "height": null,
       "justify_content": null,
       "justify_items": null,
       "left": null,
       "margin": null,
       "max_height": null,
       "max_width": null,
       "min_height": null,
       "min_width": null,
       "object_fit": null,
       "object_position": null,
       "order": null,
       "overflow": null,
       "overflow_x": null,
       "overflow_y": null,
       "padding": null,
       "right": null,
       "top": null,
       "visibility": null,
       "width": null
      }
     },
     "afa82521cf504fb58d64f68e9bcb7554": {
      "model_module": "@jupyter-widgets/controls",
      "model_module_version": "1.5.0",
      "model_name": "ProgressStyleModel",
      "state": {
       "_model_module": "@jupyter-widgets/controls",
       "_model_module_version": "1.5.0",
       "_model_name": "ProgressStyleModel",
       "_view_count": null,
       "_view_module": "@jupyter-widgets/base",
       "_view_module_version": "1.2.0",
       "_view_name": "StyleView",
       "bar_color": null,
       "description_width": ""
      }
     },
     "b00831dbb7c344cdadc2b99a3654cab4": {
      "model_module": "@jupyter-widgets/base",
      "model_module_version": "1.2.0",
      "model_name": "LayoutModel",
      "state": {
       "_model_module": "@jupyter-widgets/base",
       "_model_module_version": "1.2.0",
       "_model_name": "LayoutModel",
       "_view_count": null,
       "_view_module": "@jupyter-widgets/base",
       "_view_module_version": "1.2.0",
       "_view_name": "LayoutView",
       "align_content": null,
       "align_items": null,
       "align_self": null,
       "border": null,
       "bottom": null,
       "display": null,
       "flex": null,
       "flex_flow": null,
       "grid_area": null,
       "grid_auto_columns": null,
       "grid_auto_flow": null,
       "grid_auto_rows": null,
       "grid_column": null,
       "grid_gap": null,
       "grid_row": null,
       "grid_template_areas": null,
       "grid_template_columns": null,
       "grid_template_rows": null,
       "height": null,
       "justify_content": null,
       "justify_items": null,
       "left": null,
       "margin": null,
       "max_height": null,
       "max_width": null,
       "min_height": null,
       "min_width": null,
       "object_fit": null,
       "object_position": null,
       "order": null,
       "overflow": null,
       "overflow_x": null,
       "overflow_y": null,
       "padding": null,
       "right": null,
       "top": null,
       "visibility": null,
       "width": null
      }
     },
     "b333576a727442358b5287bcc8a390f0": {
      "model_module": "@jupyter-widgets/controls",
      "model_module_version": "1.5.0",
      "model_name": "DescriptionStyleModel",
      "state": {
       "_model_module": "@jupyter-widgets/controls",
       "_model_module_version": "1.5.0",
       "_model_name": "DescriptionStyleModel",
       "_view_count": null,
       "_view_module": "@jupyter-widgets/base",
       "_view_module_version": "1.2.0",
       "_view_name": "StyleView",
       "description_width": ""
      }
     },
     "b59e5321d2564d76a116ffcbc8f6263f": {
      "model_module": "@jupyter-widgets/controls",
      "model_module_version": "1.5.0",
      "model_name": "HTMLModel",
      "state": {
       "_dom_classes": [],
       "_model_module": "@jupyter-widgets/controls",
       "_model_module_version": "1.5.0",
       "_model_name": "HTMLModel",
       "_view_count": null,
       "_view_module": "@jupyter-widgets/controls",
       "_view_module_version": "1.5.0",
       "_view_name": "HTMLView",
       "description": "",
       "description_tooltip": null,
       "layout": "IPY_MODEL_5f6034895f65432aa26935e937311b6f",
       "placeholder": "​",
       "style": "IPY_MODEL_30d7317a34784343bd65668da9102ab8",
       "value": "100%"
      }
     },
     "ba4eba104cb740fd8322320f606dd43d": {
      "model_module": "@jupyter-widgets/controls",
      "model_module_version": "1.5.0",
      "model_name": "DescriptionStyleModel",
      "state": {
       "_model_module": "@jupyter-widgets/controls",
       "_model_module_version": "1.5.0",
       "_model_name": "DescriptionStyleModel",
       "_view_count": null,
       "_view_module": "@jupyter-widgets/base",
       "_view_module_version": "1.2.0",
       "_view_name": "StyleView",
       "description_width": ""
      }
     },
     "ba7acdbaead540aabf5de74d3c4e7d95": {
      "model_module": "@jupyter-widgets/base",
      "model_module_version": "1.2.0",
      "model_name": "LayoutModel",
      "state": {
       "_model_module": "@jupyter-widgets/base",
       "_model_module_version": "1.2.0",
       "_model_name": "LayoutModel",
       "_view_count": null,
       "_view_module": "@jupyter-widgets/base",
       "_view_module_version": "1.2.0",
       "_view_name": "LayoutView",
       "align_content": null,
       "align_items": null,
       "align_self": null,
       "border": null,
       "bottom": null,
       "display": null,
       "flex": null,
       "flex_flow": null,
       "grid_area": null,
       "grid_auto_columns": null,
       "grid_auto_flow": null,
       "grid_auto_rows": null,
       "grid_column": null,
       "grid_gap": null,
       "grid_row": null,
       "grid_template_areas": null,
       "grid_template_columns": null,
       "grid_template_rows": null,
       "height": null,
       "justify_content": null,
       "justify_items": null,
       "left": null,
       "margin": null,
       "max_height": null,
       "max_width": null,
       "min_height": null,
       "min_width": null,
       "object_fit": null,
       "object_position": null,
       "order": null,
       "overflow": null,
       "overflow_x": null,
       "overflow_y": null,
       "padding": null,
       "right": null,
       "top": null,
       "visibility": null,
       "width": null
      }
     },
     "c27176fc2baf4bdc84620110d5331773": {
      "model_module": "@jupyter-widgets/controls",
      "model_module_version": "1.5.0",
      "model_name": "DescriptionStyleModel",
      "state": {
       "_model_module": "@jupyter-widgets/controls",
       "_model_module_version": "1.5.0",
       "_model_name": "DescriptionStyleModel",
       "_view_count": null,
       "_view_module": "@jupyter-widgets/base",
       "_view_module_version": "1.2.0",
       "_view_name": "StyleView",
       "description_width": ""
      }
     },
     "c5149ca80f014895a3396c422b4b5f3e": {
      "model_module": "@jupyter-widgets/controls",
      "model_module_version": "1.5.0",
      "model_name": "FloatProgressModel",
      "state": {
       "_dom_classes": [],
       "_model_module": "@jupyter-widgets/controls",
       "_model_module_version": "1.5.0",
       "_model_name": "FloatProgressModel",
       "_view_count": null,
       "_view_module": "@jupyter-widgets/controls",
       "_view_module_version": "1.5.0",
       "_view_name": "ProgressView",
       "bar_style": "success",
       "description": "",
       "description_tooltip": null,
       "layout": "IPY_MODEL_23a1e841cbf34680bbe63418fe97419c",
       "max": 1.0,
       "min": 0.0,
       "orientation": "horizontal",
       "style": "IPY_MODEL_39e74f82794f43d4a6abca0680567097",
       "value": 1.0
      }
     },
     "ccf52717991a4e2bb9122b093db32e31": {
      "model_module": "@jupyter-widgets/controls",
      "model_module_version": "1.5.0",
      "model_name": "HTMLModel",
      "state": {
       "_dom_classes": [],
       "_model_module": "@jupyter-widgets/controls",
       "_model_module_version": "1.5.0",
       "_model_name": "HTMLModel",
       "_view_count": null,
       "_view_module": "@jupyter-widgets/controls",
       "_view_module_version": "1.5.0",
       "_view_name": "HTMLView",
       "description": "",
       "description_tooltip": null,
       "layout": "IPY_MODEL_0bc05a07c2aa4af18ca16984ea3f9242",
       "placeholder": "​",
       "style": "IPY_MODEL_4c13f331804b4dc8b2c55b4297262d24",
       "value": "Batches: 100%"
      }
     },
     "cfe6cf73d26e4a5ab1db08c71adbd100": {
      "model_module": "@jupyter-widgets/controls",
      "model_module_version": "1.5.0",
      "model_name": "DescriptionStyleModel",
      "state": {
       "_model_module": "@jupyter-widgets/controls",
       "_model_module_version": "1.5.0",
       "_model_name": "DescriptionStyleModel",
       "_view_count": null,
       "_view_module": "@jupyter-widgets/base",
       "_view_module_version": "1.2.0",
       "_view_name": "StyleView",
       "description_width": ""
      }
     },
     "d094169532224b4f8b13c8769ec1fd63": {
      "model_module": "@jupyter-widgets/controls",
      "model_module_version": "1.5.0",
      "model_name": "ProgressStyleModel",
      "state": {
       "_model_module": "@jupyter-widgets/controls",
       "_model_module_version": "1.5.0",
       "_model_name": "ProgressStyleModel",
       "_view_count": null,
       "_view_module": "@jupyter-widgets/base",
       "_view_module_version": "1.2.0",
       "_view_name": "StyleView",
       "bar_color": null,
       "description_width": ""
      }
     },
     "dc09482becf94ab1aa845e2d5e448497": {
      "model_module": "@jupyter-widgets/controls",
      "model_module_version": "1.5.0",
      "model_name": "DescriptionStyleModel",
      "state": {
       "_model_module": "@jupyter-widgets/controls",
       "_model_module_version": "1.5.0",
       "_model_name": "DescriptionStyleModel",
       "_view_count": null,
       "_view_module": "@jupyter-widgets/base",
       "_view_module_version": "1.2.0",
       "_view_name": "StyleView",
       "description_width": ""
      }
     },
     "ddc9cabc6fbe493ea1cbcf4489db935e": {
      "model_module": "@jupyter-widgets/controls",
      "model_module_version": "1.5.0",
      "model_name": "FloatProgressModel",
      "state": {
       "_dom_classes": [],
       "_model_module": "@jupyter-widgets/controls",
       "_model_module_version": "1.5.0",
       "_model_name": "FloatProgressModel",
       "_view_count": null,
       "_view_module": "@jupyter-widgets/controls",
       "_view_module_version": "1.5.0",
       "_view_name": "ProgressView",
       "bar_style": "success",
       "description": "",
       "description_tooltip": null,
       "layout": "IPY_MODEL_4631f4c5ddf34bad9e249f6e43897b82",
       "max": 5.0,
       "min": 0.0,
       "orientation": "horizontal",
       "style": "IPY_MODEL_afa82521cf504fb58d64f68e9bcb7554",
       "value": 5.0
      }
     },
     "e3cbf0381ec14420a0e66a4b4e585ee2": {
      "model_module": "@jupyter-widgets/controls",
      "model_module_version": "1.5.0",
      "model_name": "HTMLModel",
      "state": {
       "_dom_classes": [],
       "_model_module": "@jupyter-widgets/controls",
       "_model_module_version": "1.5.0",
       "_model_name": "HTMLModel",
       "_view_count": null,
       "_view_module": "@jupyter-widgets/controls",
       "_view_module_version": "1.5.0",
       "_view_name": "HTMLView",
       "description": "",
       "description_tooltip": null,
       "layout": "IPY_MODEL_6d3febbd45e34b12a5a91a840a1a775b",
       "placeholder": "​",
       "style": "IPY_MODEL_cfe6cf73d26e4a5ab1db08c71adbd100",
       "value": " 5/5 [00:03&lt;00:00,  1.66it/s]"
      }
     },
     "e65054236f6c4aaf86d819f1afae8052": {
      "model_module": "@jupyter-widgets/controls",
      "model_module_version": "1.5.0",
      "model_name": "HTMLModel",
      "state": {
       "_dom_classes": [],
       "_model_module": "@jupyter-widgets/controls",
       "_model_module_version": "1.5.0",
       "_model_name": "HTMLModel",
       "_view_count": null,
       "_view_module": "@jupyter-widgets/controls",
       "_view_module_version": "1.5.0",
       "_view_name": "HTMLView",
       "description": "",
       "description_tooltip": null,
       "layout": "IPY_MODEL_67f263a5f7b44d84ac758b47687e9c89",
       "placeholder": "​",
       "style": "IPY_MODEL_8d2a144e0c29407e838f4c2de15316fd",
       "value": " 7/7 [00:07&lt;00:00,  1.87it/s]"
      }
     },
     "e91c88db98be46d5b2f3a524805fe87d": {
      "model_module": "@jupyter-widgets/controls",
      "model_module_version": "1.5.0",
      "model_name": "HBoxModel",
      "state": {
       "_dom_classes": [],
       "_model_module": "@jupyter-widgets/controls",
       "_model_module_version": "1.5.0",
       "_model_name": "HBoxModel",
       "_view_count": null,
       "_view_module": "@jupyter-widgets/controls",
       "_view_module_version": "1.5.0",
       "_view_name": "HBoxView",
       "box_style": "",
       "children": [
        "IPY_MODEL_622972e9fabd4b208e8c26b82a69cf38",
        "IPY_MODEL_186d7bba83374c19aa7587a428bc13bb",
        "IPY_MODEL_107cfdbfcc3a45d891b50a4b40c95b60"
       ],
       "layout": "IPY_MODEL_5fcf3c30eebc4aaa8484e2154825697f"
      }
     },
     "eb6afde9aa134a5d9320e160234a464f": {
      "model_module": "@jupyter-widgets/controls",
      "model_module_version": "1.5.0",
      "model_name": "ProgressStyleModel",
      "state": {
       "_model_module": "@jupyter-widgets/controls",
       "_model_module_version": "1.5.0",
       "_model_name": "ProgressStyleModel",
       "_view_count": null,
       "_view_module": "@jupyter-widgets/base",
       "_view_module_version": "1.2.0",
       "_view_name": "StyleView",
       "bar_color": null,
       "description_width": ""
      }
     },
     "f21d831a8b434474b2868d6a931f1b75": {
      "model_module": "@jupyter-widgets/base",
      "model_module_version": "1.2.0",
      "model_name": "LayoutModel",
      "state": {
       "_model_module": "@jupyter-widgets/base",
       "_model_module_version": "1.2.0",
       "_model_name": "LayoutModel",
       "_view_count": null,
       "_view_module": "@jupyter-widgets/base",
       "_view_module_version": "1.2.0",
       "_view_name": "LayoutView",
       "align_content": null,
       "align_items": null,
       "align_self": null,
       "border": null,
       "bottom": null,
       "display": null,
       "flex": null,
       "flex_flow": null,
       "grid_area": null,
       "grid_auto_columns": null,
       "grid_auto_flow": null,
       "grid_auto_rows": null,
       "grid_column": null,
       "grid_gap": null,
       "grid_row": null,
       "grid_template_areas": null,
       "grid_template_columns": null,
       "grid_template_rows": null,
       "height": null,
       "justify_content": null,
       "justify_items": null,
       "left": null,
       "margin": null,
       "max_height": null,
       "max_width": null,
       "min_height": null,
       "min_width": null,
       "object_fit": null,
       "object_position": null,
       "order": null,
       "overflow": null,
       "overflow_x": null,
       "overflow_y": null,
       "padding": null,
       "right": null,
       "top": null,
       "visibility": null,
       "width": null
      }
     },
     "fb2cbaf53e1349f79e7cc02110939a62": {
      "model_module": "@jupyter-widgets/controls",
      "model_module_version": "1.5.0",
      "model_name": "DescriptionStyleModel",
      "state": {
       "_model_module": "@jupyter-widgets/controls",
       "_model_module_version": "1.5.0",
       "_model_name": "DescriptionStyleModel",
       "_view_count": null,
       "_view_module": "@jupyter-widgets/base",
       "_view_module_version": "1.2.0",
       "_view_name": "StyleView",
       "description_width": ""
      }
     }
    },
    "version_major": 2,
    "version_minor": 0
   }
  }
 },
 "nbformat": 4,
 "nbformat_minor": 5
}
